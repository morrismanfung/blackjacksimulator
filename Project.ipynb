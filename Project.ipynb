{
 "cells": [
  {
   "cell_type": "code",
   "execution_count": 1,
   "id": "ce0a89c2-6fac-42ec-beac-eb703b4c4be4",
   "metadata": {},
   "outputs": [],
   "source": [
    "import numpy as np\n",
    "import pandas as pd\n",
    "import altair as alt\n",
    "from collections import defaultdict"
   ]
  },
  {
   "cell_type": "code",
   "execution_count": 2,
   "id": "dd7c60da-ff2c-4f5b-b3cb-ee4044df4409",
   "metadata": {},
   "outputs": [
    {
     "name": "stdout",
     "output_type": "stream",
     "text": [
      "['10', '10', '10', '10', '10', '10', '10', '10', '10', '10', '10', '10', '10', '10', '10', '10', '2', '2', '2', '2', '3', '3', '3', '3', '4', '4', '4', '4', '5', '5', '5', '5', '6', '6', '6', '6', '7', '7', '7', '7', '8', '8', '8', '8', '9', '9', '9', '9', 'A', 'A', 'A', 'A']\n"
     ]
    }
   ],
   "source": [
    "deck = sorted(\n",
    "    [ str( i) for i in range( 2, 10)] * 4 + ['10'] * (4*4) + ['A'] * 4\n",
    "    )\n",
    "print( deck)"
   ]
  },
  {
   "cell_type": "code",
   "execution_count": 3,
   "id": "2ade25d7-4ca4-475e-a2ad-fcf34ab3385a",
   "metadata": {},
   "outputs": [],
   "source": [
    "current_deck = (deck * 2).copy()"
   ]
  },
  {
   "cell_type": "code",
   "execution_count": 4,
   "id": "d2e45d85-9eb0-4a9c-b1c2-68c91aff0972",
   "metadata": {},
   "outputs": [],
   "source": [
    "basic_strategy_hard = pd.read_csv('data\\\\basic-strategy-hard.csv', index_col = 'Index')\n",
    "# basic_strategy_hard.head()"
   ]
  },
  {
   "cell_type": "code",
   "execution_count": 5,
   "id": "eb53bc82-362e-486a-b1e4-8b88634ee020",
   "metadata": {
    "tags": []
   },
   "outputs": [],
   "source": [
    "basic_strategy_soft = pd.read_csv('data\\\\basic-strategy-soft.csv', index_col = 'Index')\n",
    "# basic_strategy_soft.head()"
   ]
  },
  {
   "cell_type": "code",
   "execution_count": 6,
   "id": "df8ec1d8-d542-4cb5-b5f3-8e1be6b897be",
   "metadata": {},
   "outputs": [],
   "source": [
    "basic_strategy_split = pd.read_csv('data\\\\basic-strategy-split.csv', index_col = 'Index')\n",
    "# basic_strategy_split.head()"
   ]
  },
  {
   "cell_type": "code",
   "execution_count": 7,
   "id": "627f9e68-335e-4961-8294-ad619ea5ce07",
   "metadata": {},
   "outputs": [],
   "source": [
    "# print( basic_strategy_hard.columns)\n",
    "# print( basic_strategy_hard.index)"
   ]
  },
  {
   "cell_type": "code",
   "execution_count": 8,
   "id": "a5d5e25c-de59-42eb-8407-e3ead87d5650",
   "metadata": {},
   "outputs": [],
   "source": [
    "basic_strategy_hard.index = list( map( str, basic_strategy_hard.index))\n",
    "# print( basic_strategy_hard.columns)\n",
    "# print( basic_strategy_hard.index)"
   ]
  },
  {
   "cell_type": "code",
   "execution_count": 9,
   "id": "b4c06c50-6394-4e75-8b39-3eedccf02f30",
   "metadata": {},
   "outputs": [],
   "source": [
    "# print( basic_strategy_soft.columns)\n",
    "# print( basic_strategy_soft.index)"
   ]
  },
  {
   "cell_type": "code",
   "execution_count": 10,
   "id": "cdc2959a-29f1-4ead-b0e9-6651a1907203",
   "metadata": {},
   "outputs": [],
   "source": [
    "basic_strategy_soft.index = list( map( str, basic_strategy_soft.index))\n",
    "# print( basic_strategy_soft.columns)\n",
    "# print( basic_strategy_soft.index)"
   ]
  },
  {
   "cell_type": "code",
   "execution_count": 11,
   "id": "f12fa59c-38c1-4c8d-acf6-937bde79a147",
   "metadata": {},
   "outputs": [],
   "source": [
    "def value_sum( cards):\n",
    "\n",
    "    values = np.array( [], dtype = int)\n",
    "    num_A = np.count_nonzero( cards == 'A')\n",
    "    values = np.append( values, sum( list( map( value, cards))))\n",
    "    for i in range( 1, num_A+1):\n",
    "        values = np.append( values, sum( list( map( value, cards)))-10*i)\n",
    "    return values"
   ]
  },
  {
   "cell_type": "code",
   "execution_count": 31,
   "id": "cf041476-a545-4aa0-add3-135782bdaf8a",
   "metadata": {},
   "outputs": [],
   "source": [
    "def HiLo( card):\n",
    "    Hi = [ '10', 'A']\n",
    "    Lo = [ '2', '3', '4', '5', '6']\n",
    "    if card in Hi:\n",
    "        return -1\n",
    "    elif card in Lo:\n",
    "        return 1\n",
    "    else:\n",
    "        return 0"
   ]
  },
  {
   "cell_type": "code",
   "execution_count": 32,
   "id": "dcbef7cd-de2f-41a7-aeab-720263eca417",
   "metadata": {},
   "outputs": [],
   "source": [
    "def draw_card():\n",
    "    global count_\n",
    "    card = np.random.choice( current_deck)\n",
    "    current_deck.remove( card)\n",
    "    count_ += HiLo( card)\n",
    "    return card\n",
    "\n",
    "def value( card):\n",
    "    try:\n",
    "        return int( card)\n",
    "    except:\n",
    "        return 11\n",
    "\n",
    "def check( value):\n",
    "    if value == 11:\n",
    "        return 'A'\n",
    "    else:\n",
    "        return str( value)"
   ]
  },
  {
   "cell_type": "code",
   "execution_count": 33,
   "id": "e52e45c5-c392-4717-9417-7d52ae798cf3",
   "metadata": {},
   "outputs": [],
   "source": [
    "class Dealer():\n",
    "    def __init__( self, verbose = True):\n",
    "        self.cards = np.array( [])\n",
    "        self.value = 0\n",
    "        self.verbose = verbose\n",
    "    \n",
    "    def draw( self):\n",
    "        card = draw_card()\n",
    "        self.cards = np.append( self.cards, card)\n",
    "        self.possible_values = value_sum( self.cards)\n",
    "        if min( self.possible_values) <= 21:\n",
    "            self.value = max( self.possible_values[ self.possible_values <= 21])\n",
    "        else:\n",
    "            self.value = min( self.possible_values)\n",
    "        if self.verbose == True:\n",
    "            print( f'Dealer\\'s cards are {self.cards}')"
   ]
  },
  {
   "cell_type": "code",
   "execution_count": 34,
   "id": "dc1969eb-0526-46ae-9a32-8df85673f85f",
   "metadata": {},
   "outputs": [],
   "source": [
    "class Player():\n",
    "    def __init__( self, verbose = True):\n",
    "        self.cards = np.array( [])\n",
    "        self.value = 0\n",
    "        self.verbose = verbose\n",
    "    \n",
    "    def draw( self):\n",
    "        card = draw_card()\n",
    "        self.cards = np.append( self.cards, card)\n",
    "        self.possible_values = value_sum( self.cards)\n",
    "        if min( self.possible_values) <= 21:\n",
    "            self.value = max( self.possible_values[ self.possible_values <= 21])\n",
    "        else:\n",
    "            self.value = min( self.possible_values)\n",
    "        if verbose == True:\n",
    "            print( f'Player\\'s cards are {self.cards}')"
   ]
  },
  {
   "cell_type": "code",
   "execution_count": 35,
   "id": "406a8123-cb7d-4991-a6e2-7a60214c7778",
   "metadata": {},
   "outputs": [],
   "source": [
    "def basic_strategy_action( player, dealer, total):\n",
    "    if total == 'pair':\n",
    "        return basic_strategy_split.loc[ str( min( player.cards)), check( dealer.value)]\n",
    "    elif total == 'hard':\n",
    "        return basic_strategy_hard.loc[ str( player.value), check( dealer.value)]\n",
    "    elif total == 'soft':\n",
    "        return basic_strategy_soft.loc[ str( player.value), check( dealer.value)]"
   ]
  },
  {
   "cell_type": "code",
   "execution_count": 130,
   "id": "d629dad2-6986-48c0-81f1-dafe70237277",
   "metadata": {},
   "outputs": [],
   "source": [
    "def game( player_upcard = None, dealer_upcard = None):\n",
    "    global current_deck\n",
    "    global player\n",
    "    global dealer\n",
    "    global count_\n",
    "    global betsize\n",
    "    \n",
    "    surrender = False\n",
    "    betsize = 1\n",
    "    \n",
    "    if count_ == 2:\n",
    "        betsize = 2\n",
    "    if count_ == 3:\n",
    "        betsize = 4\n",
    "    if count_ == 4:\n",
    "        betsize = 6\n",
    "    if count_ >= 5:\n",
    "        betsize = 8\n",
    "        \n",
    "    # print( count_, betsize)\n",
    "    \n",
    "    change = 0\n",
    "    dealer = Dealer( verbose = False)\n",
    "    player = Player( verbose = False)\n",
    "    \n",
    "    if dealer_upcard == None:\n",
    "        dealer.draw()\n",
    "    \n",
    "    if player_upcard == None:\n",
    "        player.draw()\n",
    "    else:\n",
    "        np.append( player.cards, player_upcard) # In case of splitting\n",
    "        \n",
    "    player.draw()\n",
    "\n",
    "    action = 'H'\n",
    "\n",
    "    while (player.value < 21) and (action != 'S'):\n",
    "        \n",
    "        if (len( player.cards) == 2) and min( player.cards) == max( player.cards):\n",
    "            total = 'pair'\n",
    "        else:\n",
    "            if 'A' in player.cards:\n",
    "                total = 'soft'\n",
    "            else:\n",
    "                total = 'hard'\n",
    "\n",
    "        action = basic_strategy_action( player, dealer, total)\n",
    "\n",
    "        if action == 'Sur':\n",
    "            if len( player.cards) == 2:\n",
    "                surrender = True\n",
    "                change = -betsize / 2\n",
    "                return change\n",
    "            else:\n",
    "                action = 'H'\n",
    "        \n",
    "        if action == 'X':\n",
    "            splitted_card = min( player.cards)\n",
    "            # if splitted_card == 'A':\n",
    "                \n",
    "            return game( player_upcard = min( player.cards))\n",
    "        \n",
    "        if action == 'H':\n",
    "            player.draw()\n",
    "\n",
    "        if action == 'D':\n",
    "            player.draw()\n",
    "            betsize *= 2\n",
    "            action = 'S'\n",
    "\n",
    "    while dealer.value < 17:\n",
    "        dealer.draw()\n",
    "    \n",
    "    if ( (player.value < 22) & (player.value > dealer.value) ) | (dealer.value >= 22):\n",
    "        change = betsize\n",
    "    elif (player.value >= 22) | (player.value < dealer.value):\n",
    "        change = -betsize\n",
    "    \n",
    "    if len( current_deck) < 50:\n",
    "        current_deck = (deck * 2).copy()\n",
    "        count_ = 0\n",
    "        # print( 'shuffle')\n",
    "        \n",
    "    return change"
   ]
  },
  {
   "cell_type": "code",
   "execution_count": 131,
   "id": "2032a71e-486a-4388-b31c-a12bdea0f6f3",
   "metadata": {},
   "outputs": [],
   "source": [
    "record_game = {\n",
    "    'run_num': 0,\n",
    "    'player_cards': np.array([]),\n",
    "    'dealer_cards': np.array([]),\n",
    "    'change': 0,\n",
    "    'count_': 0\n",
    "}"
   ]
  },
  {
   "cell_type": "code",
   "execution_count": 132,
   "id": "b44bf175-f362-4d8d-9fa9-9aa61c97a947",
   "metadata": {},
   "outputs": [],
   "source": [
    "record_run = defaultdict( lambda: record_game)"
   ]
  },
  {
   "cell_type": "code",
   "execution_count": 133,
   "id": "a93c9a87-1794-4dea-b9f2-5d7a2fab80bb",
   "metadata": {},
   "outputs": [],
   "source": [
    "verbose = False\n",
    "\n",
    "record = defaultdict( lambda: record_run.copy())\n",
    "\n",
    "for i in range( 20):\n",
    "    result = np.array( [])\n",
    "    bankroll = 20\n",
    "    current_deck = (deck * 2).copy()\n",
    "    count_ = 0\n",
    "    \n",
    "    for j in range( 100):\n",
    "        \n",
    "        \n",
    "        change = game()\n",
    "\n",
    "        bankroll = bankroll + change\n",
    "        record_run[ j][ 'run_num'] = j\n",
    "        record_run[ j][ 'player_cards'] = player.cards\n",
    "        record_run[ j][ 'dealer_cards'] = dealer.cards\n",
    "        record_run[ j][ 'betsize'] = betsize\n",
    "        record_run[ j][ 'change'] = change\n",
    "        record_run[ j][ 'count_'] = count_\n",
    "        \n",
    "        result = np.append( result, bankroll)\n",
    "\n",
    "        #print( f'Bankroll is {bankroll}.')\n",
    "        #print()\n",
    "    record[i] = result"
   ]
  },
  {
   "cell_type": "code",
   "execution_count": 134,
   "id": "076cc2e8-1392-4b04-b488-9372716d1e86",
   "metadata": {},
   "outputs": [
    {
     "data": {
      "text/html": [
       "<div>\n",
       "<style scoped>\n",
       "    .dataframe tbody tr th:only-of-type {\n",
       "        vertical-align: middle;\n",
       "    }\n",
       "\n",
       "    .dataframe tbody tr th {\n",
       "        vertical-align: top;\n",
       "    }\n",
       "\n",
       "    .dataframe thead th {\n",
       "        text-align: right;\n",
       "    }\n",
       "</style>\n",
       "<table border=\"1\" class=\"dataframe\">\n",
       "  <thead>\n",
       "    <tr style=\"text-align: right;\">\n",
       "      <th></th>\n",
       "      <th>index</th>\n",
       "      <th>variable</th>\n",
       "      <th>value</th>\n",
       "    </tr>\n",
       "  </thead>\n",
       "  <tbody>\n",
       "    <tr>\n",
       "      <th>0</th>\n",
       "      <td>0</td>\n",
       "      <td>0</td>\n",
       "      <td>21.0</td>\n",
       "    </tr>\n",
       "    <tr>\n",
       "      <th>1</th>\n",
       "      <td>1</td>\n",
       "      <td>0</td>\n",
       "      <td>19.0</td>\n",
       "    </tr>\n",
       "    <tr>\n",
       "      <th>2</th>\n",
       "      <td>2</td>\n",
       "      <td>0</td>\n",
       "      <td>27.0</td>\n",
       "    </tr>\n",
       "    <tr>\n",
       "      <th>3</th>\n",
       "      <td>3</td>\n",
       "      <td>0</td>\n",
       "      <td>43.0</td>\n",
       "    </tr>\n",
       "    <tr>\n",
       "      <th>4</th>\n",
       "      <td>4</td>\n",
       "      <td>0</td>\n",
       "      <td>35.0</td>\n",
       "    </tr>\n",
       "    <tr>\n",
       "      <th>...</th>\n",
       "      <td>...</td>\n",
       "      <td>...</td>\n",
       "      <td>...</td>\n",
       "    </tr>\n",
       "    <tr>\n",
       "      <th>1995</th>\n",
       "      <td>95</td>\n",
       "      <td>19</td>\n",
       "      <td>-29.0</td>\n",
       "    </tr>\n",
       "    <tr>\n",
       "      <th>1996</th>\n",
       "      <td>96</td>\n",
       "      <td>19</td>\n",
       "      <td>-27.0</td>\n",
       "    </tr>\n",
       "    <tr>\n",
       "      <th>1997</th>\n",
       "      <td>97</td>\n",
       "      <td>19</td>\n",
       "      <td>-28.0</td>\n",
       "    </tr>\n",
       "    <tr>\n",
       "      <th>1998</th>\n",
       "      <td>98</td>\n",
       "      <td>19</td>\n",
       "      <td>-29.0</td>\n",
       "    </tr>\n",
       "    <tr>\n",
       "      <th>1999</th>\n",
       "      <td>99</td>\n",
       "      <td>19</td>\n",
       "      <td>-29.0</td>\n",
       "    </tr>\n",
       "  </tbody>\n",
       "</table>\n",
       "<p>2000 rows × 3 columns</p>\n",
       "</div>"
      ],
      "text/plain": [
       "      index variable  value\n",
       "0         0        0   21.0\n",
       "1         1        0   19.0\n",
       "2         2        0   27.0\n",
       "3         3        0   43.0\n",
       "4         4        0   35.0\n",
       "...     ...      ...    ...\n",
       "1995     95       19  -29.0\n",
       "1996     96       19  -27.0\n",
       "1997     97       19  -28.0\n",
       "1998     98       19  -29.0\n",
       "1999     99       19  -29.0\n",
       "\n",
       "[2000 rows x 3 columns]"
      ]
     },
     "execution_count": 134,
     "metadata": {},
     "output_type": "execute_result"
    }
   ],
   "source": [
    "record_melted = pd.DataFrame( record).reset_index().melt( id_vars = 'index', value_vars = list( range( 20)))\n",
    "record_melted"
   ]
  },
  {
   "cell_type": "code",
   "execution_count": 135,
   "id": "c29e0436-6f26-4d4f-a0bf-3af6e96e125f",
   "metadata": {},
   "outputs": [
    {
     "data": {
      "text/html": [
       "\n",
       "<div id=\"altair-viz-82ed87f123124af0b4097f3b9ce940a3\"></div>\n",
       "<script type=\"text/javascript\">\n",
       "  var VEGA_DEBUG = (typeof VEGA_DEBUG == \"undefined\") ? {} : VEGA_DEBUG;\n",
       "  (function(spec, embedOpt){\n",
       "    let outputDiv = document.currentScript.previousElementSibling;\n",
       "    if (outputDiv.id !== \"altair-viz-82ed87f123124af0b4097f3b9ce940a3\") {\n",
       "      outputDiv = document.getElementById(\"altair-viz-82ed87f123124af0b4097f3b9ce940a3\");\n",
       "    }\n",
       "    const paths = {\n",
       "      \"vega\": \"https://cdn.jsdelivr.net/npm//vega@5?noext\",\n",
       "      \"vega-lib\": \"https://cdn.jsdelivr.net/npm//vega-lib?noext\",\n",
       "      \"vega-lite\": \"https://cdn.jsdelivr.net/npm//vega-lite@4.17.0?noext\",\n",
       "      \"vega-embed\": \"https://cdn.jsdelivr.net/npm//vega-embed@6?noext\",\n",
       "    };\n",
       "\n",
       "    function maybeLoadScript(lib, version) {\n",
       "      var key = `${lib.replace(\"-\", \"\")}_version`;\n",
       "      return (VEGA_DEBUG[key] == version) ?\n",
       "        Promise.resolve(paths[lib]) :\n",
       "        new Promise(function(resolve, reject) {\n",
       "          var s = document.createElement('script');\n",
       "          document.getElementsByTagName(\"head\")[0].appendChild(s);\n",
       "          s.async = true;\n",
       "          s.onload = () => {\n",
       "            VEGA_DEBUG[key] = version;\n",
       "            return resolve(paths[lib]);\n",
       "          };\n",
       "          s.onerror = () => reject(`Error loading script: ${paths[lib]}`);\n",
       "          s.src = paths[lib];\n",
       "        });\n",
       "    }\n",
       "\n",
       "    function showError(err) {\n",
       "      outputDiv.innerHTML = `<div class=\"error\" style=\"color:red;\">${err}</div>`;\n",
       "      throw err;\n",
       "    }\n",
       "\n",
       "    function displayChart(vegaEmbed) {\n",
       "      vegaEmbed(outputDiv, spec, embedOpt)\n",
       "        .catch(err => showError(`Javascript Error: ${err.message}<br>This usually means there's a typo in your chart specification. See the javascript console for the full traceback.`));\n",
       "    }\n",
       "\n",
       "    if(typeof define === \"function\" && define.amd) {\n",
       "      requirejs.config({paths});\n",
       "      require([\"vega-embed\"], displayChart, err => showError(`Error loading script: ${err.message}`));\n",
       "    } else {\n",
       "      maybeLoadScript(\"vega\", \"5\")\n",
       "        .then(() => maybeLoadScript(\"vega-lite\", \"4.17.0\"))\n",
       "        .then(() => maybeLoadScript(\"vega-embed\", \"6\"))\n",
       "        .catch(showError)\n",
       "        .then(() => displayChart(vegaEmbed));\n",
       "    }\n",
       "  })({\"config\": {\"view\": {\"continuousWidth\": 400, \"continuousHeight\": 300}}, \"data\": {\"name\": \"data-97ede5c3bfd432e38f2ab48a9d50a318\"}, \"mark\": \"line\", \"encoding\": {\"color\": {\"field\": \"variable\", \"type\": \"nominal\"}, \"x\": {\"field\": \"index\", \"type\": \"quantitative\"}, \"y\": {\"field\": \"value\", \"type\": \"quantitative\"}}, \"$schema\": \"https://vega.github.io/schema/vega-lite/v4.17.0.json\", \"datasets\": {\"data-97ede5c3bfd432e38f2ab48a9d50a318\": [{\"index\": 0, \"variable\": 0, \"value\": 21.0}, {\"index\": 1, \"variable\": 0, \"value\": 19.0}, {\"index\": 2, \"variable\": 0, \"value\": 27.0}, {\"index\": 3, \"variable\": 0, \"value\": 43.0}, {\"index\": 4, \"variable\": 0, \"value\": 35.0}, {\"index\": 5, \"variable\": 0, \"value\": 43.0}, {\"index\": 6, \"variable\": 0, \"value\": 47.0}, {\"index\": 7, \"variable\": 0, \"value\": 46.0}, {\"index\": 8, \"variable\": 0, \"value\": 48.0}, {\"index\": 9, \"variable\": 0, \"value\": 47.0}, {\"index\": 10, \"variable\": 0, \"value\": 46.0}, {\"index\": 11, \"variable\": 0, \"value\": 47.0}, {\"index\": 12, \"variable\": 0, \"value\": 48.0}, {\"index\": 13, \"variable\": 0, \"value\": 49.0}, {\"index\": 14, \"variable\": 0, \"value\": 48.0}, {\"index\": 15, \"variable\": 0, \"value\": 49.0}, {\"index\": 16, \"variable\": 0, \"value\": 50.0}, {\"index\": 17, \"variable\": 0, \"value\": 49.0}, {\"index\": 18, \"variable\": 0, \"value\": 48.0}, {\"index\": 19, \"variable\": 0, \"value\": 46.0}, {\"index\": 20, \"variable\": 0, \"value\": 40.0}, {\"index\": 21, \"variable\": 0, \"value\": 40.0}, {\"index\": 22, \"variable\": 0, \"value\": 52.0}, {\"index\": 23, \"variable\": 0, \"value\": 60.0}, {\"index\": 24, \"variable\": 0, \"value\": 60.0}, {\"index\": 25, \"variable\": 0, \"value\": 60.0}, {\"index\": 26, \"variable\": 0, \"value\": 60.0}, {\"index\": 27, \"variable\": 0, \"value\": 58.0}, {\"index\": 28, \"variable\": 0, \"value\": 59.0}, {\"index\": 29, \"variable\": 0, \"value\": 53.0}, {\"index\": 30, \"variable\": 0, \"value\": 69.0}, {\"index\": 31, \"variable\": 0, \"value\": 61.0}, {\"index\": 32, \"variable\": 0, \"value\": 57.0}, {\"index\": 33, \"variable\": 0, \"value\": 65.0}, {\"index\": 34, \"variable\": 0, \"value\": 59.0}, {\"index\": 35, \"variable\": 0, \"value\": 57.0}, {\"index\": 36, \"variable\": 0, \"value\": 49.0}, {\"index\": 37, \"variable\": 0, \"value\": 50.0}, {\"index\": 38, \"variable\": 0, \"value\": 49.0}, {\"index\": 39, \"variable\": 0, \"value\": 50.0}, {\"index\": 40, \"variable\": 0, \"value\": 49.0}, {\"index\": 41, \"variable\": 0, \"value\": 48.0}, {\"index\": 42, \"variable\": 0, \"value\": 50.0}, {\"index\": 43, \"variable\": 0, \"value\": 51.0}, {\"index\": 44, \"variable\": 0, \"value\": 50.0}, {\"index\": 45, \"variable\": 0, \"value\": 51.0}, {\"index\": 46, \"variable\": 0, \"value\": 49.0}, {\"index\": 47, \"variable\": 0, \"value\": 49.0}, {\"index\": 48, \"variable\": 0, \"value\": 48.5}, {\"index\": 49, \"variable\": 0, \"value\": 50.5}, {\"index\": 50, \"variable\": 0, \"value\": 51.5}, {\"index\": 51, \"variable\": 0, \"value\": 52.5}, {\"index\": 52, \"variable\": 0, \"value\": 51.5}, {\"index\": 53, \"variable\": 0, \"value\": 52.5}, {\"index\": 54, \"variable\": 0, \"value\": 51.5}, {\"index\": 55, \"variable\": 0, \"value\": 50.5}, {\"index\": 56, \"variable\": 0, \"value\": 51.5}, {\"index\": 57, \"variable\": 0, \"value\": 47.5}, {\"index\": 58, \"variable\": 0, \"value\": 31.5}, {\"index\": 59, \"variable\": 0, \"value\": 31.5}, {\"index\": 60, \"variable\": 0, \"value\": 39.5}, {\"index\": 61, \"variable\": 0, \"value\": 47.5}, {\"index\": 62, \"variable\": 0, \"value\": 39.5}, {\"index\": 63, \"variable\": 0, \"value\": 47.5}, {\"index\": 64, \"variable\": 0, \"value\": 55.5}, {\"index\": 65, \"variable\": 0, \"value\": 49.5}, {\"index\": 66, \"variable\": 0, \"value\": 50.5}, {\"index\": 67, \"variable\": 0, \"value\": 42.5}, {\"index\": 68, \"variable\": 0, \"value\": 26.5}, {\"index\": 69, \"variable\": 0, \"value\": 34.5}, {\"index\": 70, \"variable\": 0, \"value\": 26.5}, {\"index\": 71, \"variable\": 0, \"value\": 34.5}, {\"index\": 72, \"variable\": 0, \"value\": 26.5}, {\"index\": 73, \"variable\": 0, \"value\": 34.5}, {\"index\": 74, \"variable\": 0, \"value\": 35.5}, {\"index\": 75, \"variable\": 0, \"value\": 37.5}, {\"index\": 76, \"variable\": 0, \"value\": 37.0}, {\"index\": 77, \"variable\": 0, \"value\": 36.0}, {\"index\": 78, \"variable\": 0, \"value\": 35.0}, {\"index\": 79, \"variable\": 0, \"value\": 34.0}, {\"index\": 80, \"variable\": 0, \"value\": 40.0}, {\"index\": 81, \"variable\": 0, \"value\": 44.0}, {\"index\": 82, \"variable\": 0, \"value\": 44.0}, {\"index\": 83, \"variable\": 0, \"value\": 45.0}, {\"index\": 84, \"variable\": 0, \"value\": 45.0}, {\"index\": 85, \"variable\": 0, \"value\": 44.5}, {\"index\": 86, \"variable\": 0, \"value\": 45.5}, {\"index\": 87, \"variable\": 0, \"value\": 44.5}, {\"index\": 88, \"variable\": 0, \"value\": 43.5}, {\"index\": 89, \"variable\": 0, \"value\": 42.5}, {\"index\": 90, \"variable\": 0, \"value\": 41.5}, {\"index\": 91, \"variable\": 0, \"value\": 42.5}, {\"index\": 92, \"variable\": 0, \"value\": 41.5}, {\"index\": 93, \"variable\": 0, \"value\": 40.5}, {\"index\": 94, \"variable\": 0, \"value\": 38.5}, {\"index\": 95, \"variable\": 0, \"value\": 39.5}, {\"index\": 96, \"variable\": 0, \"value\": 38.5}, {\"index\": 97, \"variable\": 0, \"value\": 39.5}, {\"index\": 98, \"variable\": 0, \"value\": 40.5}, {\"index\": 99, \"variable\": 0, \"value\": 39.5}, {\"index\": 0, \"variable\": 1, \"value\": 19.0}, {\"index\": 1, \"variable\": 1, \"value\": 20.0}, {\"index\": 2, \"variable\": 1, \"value\": 22.0}, {\"index\": 3, \"variable\": 1, \"value\": 18.0}, {\"index\": 4, \"variable\": 1, \"value\": 20.0}, {\"index\": 5, \"variable\": 1, \"value\": 19.0}, {\"index\": 6, \"variable\": 1, \"value\": 20.0}, {\"index\": 7, \"variable\": 1, \"value\": 19.0}, {\"index\": 8, \"variable\": 1, \"value\": 21.0}, {\"index\": 9, \"variable\": 1, \"value\": 20.0}, {\"index\": 10, \"variable\": 1, \"value\": 21.0}, {\"index\": 11, \"variable\": 1, \"value\": 20.0}, {\"index\": 12, \"variable\": 1, \"value\": 19.0}, {\"index\": 13, \"variable\": 1, \"value\": 19.0}, {\"index\": 14, \"variable\": 1, \"value\": 18.0}, {\"index\": 15, \"variable\": 1, \"value\": 19.0}, {\"index\": 16, \"variable\": 1, \"value\": 20.0}, {\"index\": 17, \"variable\": 1, \"value\": 19.0}, {\"index\": 18, \"variable\": 1, \"value\": 17.0}, {\"index\": 19, \"variable\": 1, \"value\": 16.0}, {\"index\": 20, \"variable\": 1, \"value\": 18.0}, {\"index\": 21, \"variable\": 1, \"value\": 19.0}, {\"index\": 22, \"variable\": 1, \"value\": 19.0}, {\"index\": 23, \"variable\": 1, \"value\": 20.0}, {\"index\": 24, \"variable\": 1, \"value\": 19.0}, {\"index\": 25, \"variable\": 1, \"value\": 20.0}, {\"index\": 26, \"variable\": 1, \"value\": 21.0}, {\"index\": 27, \"variable\": 1, \"value\": 22.0}, {\"index\": 28, \"variable\": 1, \"value\": 16.0}, {\"index\": 29, \"variable\": 1, \"value\": 15.0}, {\"index\": 30, \"variable\": 1, \"value\": 17.0}, {\"index\": 31, \"variable\": 1, \"value\": 29.0}, {\"index\": 32, \"variable\": 1, \"value\": 23.0}, {\"index\": 33, \"variable\": 1, \"value\": 22.0}, {\"index\": 34, \"variable\": 1, \"value\": 20.0}, {\"index\": 35, \"variable\": 1, \"value\": 21.0}, {\"index\": 36, \"variable\": 1, \"value\": 29.0}, {\"index\": 37, \"variable\": 1, \"value\": 21.0}, {\"index\": 38, \"variable\": 1, \"value\": 22.0}, {\"index\": 39, \"variable\": 1, \"value\": 23.0}, {\"index\": 40, \"variable\": 1, \"value\": 23.0}, {\"index\": 41, \"variable\": 1, \"value\": 25.0}, {\"index\": 42, \"variable\": 1, \"value\": 26.0}, {\"index\": 43, \"variable\": 1, \"value\": 28.0}, {\"index\": 44, \"variable\": 1, \"value\": 29.0}, {\"index\": 45, \"variable\": 1, \"value\": 28.5}, {\"index\": 46, \"variable\": 1, \"value\": 28.0}, {\"index\": 47, \"variable\": 1, \"value\": 27.0}, {\"index\": 48, \"variable\": 1, \"value\": 26.0}, {\"index\": 49, \"variable\": 1, \"value\": 26.0}, {\"index\": 50, \"variable\": 1, \"value\": 25.0}, {\"index\": 51, \"variable\": 1, \"value\": 26.0}, {\"index\": 52, \"variable\": 1, \"value\": 25.0}, {\"index\": 53, \"variable\": 1, \"value\": 24.0}, {\"index\": 54, \"variable\": 1, \"value\": 25.0}, {\"index\": 55, \"variable\": 1, \"value\": 26.0}, {\"index\": 56, \"variable\": 1, \"value\": 27.0}, {\"index\": 57, \"variable\": 1, \"value\": 26.5}, {\"index\": 58, \"variable\": 1, \"value\": 26.0}, {\"index\": 59, \"variable\": 1, \"value\": 25.0}, {\"index\": 60, \"variable\": 1, \"value\": 24.0}, {\"index\": 61, \"variable\": 1, \"value\": 25.0}, {\"index\": 62, \"variable\": 1, \"value\": 25.0}, {\"index\": 63, \"variable\": 1, \"value\": 24.0}, {\"index\": 64, \"variable\": 1, \"value\": 26.0}, {\"index\": 65, \"variable\": 1, \"value\": 25.0}, {\"index\": 66, \"variable\": 1, \"value\": 24.0}, {\"index\": 67, \"variable\": 1, \"value\": 23.0}, {\"index\": 68, \"variable\": 1, \"value\": 24.0}, {\"index\": 69, \"variable\": 1, \"value\": 26.0}, {\"index\": 70, \"variable\": 1, \"value\": 25.0}, {\"index\": 71, \"variable\": 1, \"value\": 25.0}, {\"index\": 72, \"variable\": 1, \"value\": 24.0}, {\"index\": 73, \"variable\": 1, \"value\": 25.0}, {\"index\": 74, \"variable\": 1, \"value\": 29.0}, {\"index\": 75, \"variable\": 1, \"value\": 27.0}, {\"index\": 76, \"variable\": 1, \"value\": 31.0}, {\"index\": 77, \"variable\": 1, \"value\": 30.5}, {\"index\": 78, \"variable\": 1, \"value\": 31.5}, {\"index\": 79, \"variable\": 1, \"value\": 30.5}, {\"index\": 80, \"variable\": 1, \"value\": 31.5}, {\"index\": 81, \"variable\": 1, \"value\": 33.5}, {\"index\": 82, \"variable\": 1, \"value\": 34.5}, {\"index\": 83, \"variable\": 1, \"value\": 33.5}, {\"index\": 84, \"variable\": 1, \"value\": 34.5}, {\"index\": 85, \"variable\": 1, \"value\": 34.5}, {\"index\": 86, \"variable\": 1, \"value\": 33.5}, {\"index\": 87, \"variable\": 1, \"value\": 32.5}, {\"index\": 88, \"variable\": 1, \"value\": 31.5}, {\"index\": 89, \"variable\": 1, \"value\": 29.5}, {\"index\": 90, \"variable\": 1, \"value\": 30.5}, {\"index\": 91, \"variable\": 1, \"value\": 29.5}, {\"index\": 92, \"variable\": 1, \"value\": 25.5}, {\"index\": 93, \"variable\": 1, \"value\": 26.5}, {\"index\": 94, \"variable\": 1, \"value\": 25.5}, {\"index\": 95, \"variable\": 1, \"value\": 37.5}, {\"index\": 96, \"variable\": 1, \"value\": 29.5}, {\"index\": 97, \"variable\": 1, \"value\": 37.5}, {\"index\": 98, \"variable\": 1, \"value\": 53.5}, {\"index\": 99, \"variable\": 1, \"value\": 61.5}, {\"index\": 0, \"variable\": 2, \"value\": 19.5}, {\"index\": 1, \"variable\": 2, \"value\": 19.0}, {\"index\": 2, \"variable\": 2, \"value\": 17.0}, {\"index\": 3, \"variable\": 2, \"value\": 19.0}, {\"index\": 4, \"variable\": 2, \"value\": 20.0}, {\"index\": 5, \"variable\": 2, \"value\": 20.0}, {\"index\": 6, \"variable\": 2, \"value\": 21.0}, {\"index\": 7, \"variable\": 2, \"value\": 20.0}, {\"index\": 8, \"variable\": 2, \"value\": 21.0}, {\"index\": 9, \"variable\": 2, \"value\": 22.0}, {\"index\": 10, \"variable\": 2, \"value\": 21.0}, {\"index\": 11, \"variable\": 2, \"value\": 23.0}, {\"index\": 12, \"variable\": 2, \"value\": 25.0}, {\"index\": 13, \"variable\": 2, \"value\": 29.0}, {\"index\": 14, \"variable\": 2, \"value\": 35.0}, {\"index\": 15, \"variable\": 2, \"value\": 31.0}, {\"index\": 16, \"variable\": 2, \"value\": 29.0}, {\"index\": 17, \"variable\": 2, \"value\": 27.0}, {\"index\": 18, \"variable\": 2, \"value\": 25.0}, {\"index\": 19, \"variable\": 2, \"value\": 26.0}, {\"index\": 20, \"variable\": 2, \"value\": 27.0}, {\"index\": 21, \"variable\": 2, \"value\": 26.0}, {\"index\": 22, \"variable\": 2, \"value\": 27.0}, {\"index\": 23, \"variable\": 2, \"value\": 28.0}, {\"index\": 24, \"variable\": 2, \"value\": 27.0}, {\"index\": 25, \"variable\": 2, \"value\": 28.0}, {\"index\": 26, \"variable\": 2, \"value\": 27.0}, {\"index\": 27, \"variable\": 2, \"value\": 27.0}, {\"index\": 28, \"variable\": 2, \"value\": 26.0}, {\"index\": 29, \"variable\": 2, \"value\": 27.0}, {\"index\": 30, \"variable\": 2, \"value\": 29.0}, {\"index\": 31, \"variable\": 2, \"value\": 30.0}, {\"index\": 32, \"variable\": 2, \"value\": 22.0}, {\"index\": 33, \"variable\": 2, \"value\": 38.0}, {\"index\": 34, \"variable\": 2, \"value\": 30.0}, {\"index\": 35, \"variable\": 2, \"value\": 26.0}, {\"index\": 36, \"variable\": 2, \"value\": 34.0}, {\"index\": 37, \"variable\": 2, \"value\": 42.0}, {\"index\": 38, \"variable\": 2, \"value\": 50.0}, {\"index\": 39, \"variable\": 2, \"value\": 38.0}, {\"index\": 40, \"variable\": 2, \"value\": 39.0}, {\"index\": 41, \"variable\": 2, \"value\": 40.0}, {\"index\": 42, \"variable\": 2, \"value\": 41.0}, {\"index\": 43, \"variable\": 2, \"value\": 40.5}, {\"index\": 44, \"variable\": 2, \"value\": 40.0}, {\"index\": 45, \"variable\": 2, \"value\": 39.5}, {\"index\": 46, \"variable\": 2, \"value\": 38.5}, {\"index\": 47, \"variable\": 2, \"value\": 37.5}, {\"index\": 48, \"variable\": 2, \"value\": 38.5}, {\"index\": 49, \"variable\": 2, \"value\": 37.5}, {\"index\": 50, \"variable\": 2, \"value\": 35.5}, {\"index\": 51, \"variable\": 2, \"value\": 34.5}, {\"index\": 52, \"variable\": 2, \"value\": 35.5}, {\"index\": 53, \"variable\": 2, \"value\": 33.5}, {\"index\": 54, \"variable\": 2, \"value\": 31.5}, {\"index\": 55, \"variable\": 2, \"value\": 27.5}, {\"index\": 56, \"variable\": 2, \"value\": 21.5}, {\"index\": 57, \"variable\": 2, \"value\": 19.5}, {\"index\": 58, \"variable\": 2, \"value\": 18.5}, {\"index\": 59, \"variable\": 2, \"value\": 19.5}, {\"index\": 60, \"variable\": 2, \"value\": 20.5}, {\"index\": 61, \"variable\": 2, \"value\": 18.5}, {\"index\": 62, \"variable\": 2, \"value\": 17.5}, {\"index\": 63, \"variable\": 2, \"value\": 16.5}, {\"index\": 64, \"variable\": 2, \"value\": 15.5}, {\"index\": 65, \"variable\": 2, \"value\": 14.5}, {\"index\": 66, \"variable\": 2, \"value\": 13.5}, {\"index\": 67, \"variable\": 2, \"value\": 9.5}, {\"index\": 68, \"variable\": 2, \"value\": 7.5}, {\"index\": 69, \"variable\": 2, \"value\": 15.5}, {\"index\": 70, \"variable\": 2, \"value\": 15.5}, {\"index\": 71, \"variable\": 2, \"value\": 14.5}, {\"index\": 72, \"variable\": 2, \"value\": 15.5}, {\"index\": 73, \"variable\": 2, \"value\": 16.5}, {\"index\": 74, \"variable\": 2, \"value\": 15.5}, {\"index\": 75, \"variable\": 2, \"value\": 14.5}, {\"index\": 76, \"variable\": 2, \"value\": 15.5}, {\"index\": 77, \"variable\": 2, \"value\": 13.5}, {\"index\": 78, \"variable\": 2, \"value\": 12.5}, {\"index\": 79, \"variable\": 2, \"value\": 16.5}, {\"index\": 80, \"variable\": 2, \"value\": 0.5}, {\"index\": 81, \"variable\": 2, \"value\": 0.0}, {\"index\": 82, \"variable\": 2, \"value\": -1.0}, {\"index\": 83, \"variable\": 2, \"value\": -2.0}, {\"index\": 84, \"variable\": 2, \"value\": -3.0}, {\"index\": 85, \"variable\": 2, \"value\": -2.0}, {\"index\": 86, \"variable\": 2, \"value\": -3.0}, {\"index\": 87, \"variable\": 2, \"value\": -2.0}, {\"index\": 88, \"variable\": 2, \"value\": -3.0}, {\"index\": 89, \"variable\": 2, \"value\": -4.0}, {\"index\": 90, \"variable\": 2, \"value\": -3.0}, {\"index\": 91, \"variable\": 2, \"value\": -5.0}, {\"index\": 92, \"variable\": 2, \"value\": -4.0}, {\"index\": 93, \"variable\": 2, \"value\": -5.0}, {\"index\": 94, \"variable\": 2, \"value\": -6.0}, {\"index\": 95, \"variable\": 2, \"value\": -7.0}, {\"index\": 96, \"variable\": 2, \"value\": -3.0}, {\"index\": 97, \"variable\": 2, \"value\": -4.0}, {\"index\": 98, \"variable\": 2, \"value\": -3.0}, {\"index\": 99, \"variable\": 2, \"value\": -2.0}, {\"index\": 0, \"variable\": 3, \"value\": 21.0}, {\"index\": 1, \"variable\": 3, \"value\": 19.0}, {\"index\": 2, \"variable\": 3, \"value\": 23.0}, {\"index\": 3, \"variable\": 3, \"value\": 22.0}, {\"index\": 4, \"variable\": 3, \"value\": 23.0}, {\"index\": 5, \"variable\": 3, \"value\": 23.0}, {\"index\": 6, \"variable\": 3, \"value\": 24.0}, {\"index\": 7, \"variable\": 3, \"value\": 25.0}, {\"index\": 8, \"variable\": 3, \"value\": 26.0}, {\"index\": 9, \"variable\": 3, \"value\": 27.0}, {\"index\": 10, \"variable\": 3, \"value\": 26.0}, {\"index\": 11, \"variable\": 3, \"value\": 25.0}, {\"index\": 12, \"variable\": 3, \"value\": 26.0}, {\"index\": 13, \"variable\": 3, \"value\": 22.0}, {\"index\": 14, \"variable\": 3, \"value\": 23.0}, {\"index\": 15, \"variable\": 3, \"value\": 21.0}, {\"index\": 16, \"variable\": 3, \"value\": 17.0}, {\"index\": 17, \"variable\": 3, \"value\": 15.0}, {\"index\": 18, \"variable\": 3, \"value\": 16.0}, {\"index\": 19, \"variable\": 3, \"value\": 17.0}, {\"index\": 20, \"variable\": 3, \"value\": 18.0}, {\"index\": 21, \"variable\": 3, \"value\": 20.0}, {\"index\": 22, \"variable\": 3, \"value\": 22.0}, {\"index\": 23, \"variable\": 3, \"value\": 20.0}, {\"index\": 24, \"variable\": 3, \"value\": 16.0}, {\"index\": 25, \"variable\": 3, \"value\": 22.0}, {\"index\": 26, \"variable\": 3, \"value\": 24.0}, {\"index\": 27, \"variable\": 3, \"value\": 24.0}, {\"index\": 28, \"variable\": 3, \"value\": 23.0}, {\"index\": 29, \"variable\": 3, \"value\": 24.0}, {\"index\": 30, \"variable\": 3, \"value\": 24.0}, {\"index\": 31, \"variable\": 3, \"value\": 25.0}, {\"index\": 32, \"variable\": 3, \"value\": 24.0}, {\"index\": 33, \"variable\": 3, \"value\": 25.0}, {\"index\": 34, \"variable\": 3, \"value\": 26.0}, {\"index\": 35, \"variable\": 3, \"value\": 27.0}, {\"index\": 36, \"variable\": 3, \"value\": 28.0}, {\"index\": 37, \"variable\": 3, \"value\": 26.0}, {\"index\": 38, \"variable\": 3, \"value\": 27.0}, {\"index\": 39, \"variable\": 3, \"value\": 26.0}, {\"index\": 40, \"variable\": 3, \"value\": 25.0}, {\"index\": 41, \"variable\": 3, \"value\": 24.0}, {\"index\": 42, \"variable\": 3, \"value\": 22.0}, {\"index\": 43, \"variable\": 3, \"value\": 18.0}, {\"index\": 44, \"variable\": 3, \"value\": 17.5}, {\"index\": 45, \"variable\": 3, \"value\": 19.5}, {\"index\": 46, \"variable\": 3, \"value\": 20.5}, {\"index\": 47, \"variable\": 3, \"value\": 21.5}, {\"index\": 48, \"variable\": 3, \"value\": 23.5}, {\"index\": 49, \"variable\": 3, \"value\": 22.5}, {\"index\": 50, \"variable\": 3, \"value\": 21.5}, {\"index\": 51, \"variable\": 3, \"value\": 20.5}, {\"index\": 52, \"variable\": 3, \"value\": 21.5}, {\"index\": 53, \"variable\": 3, \"value\": 19.5}, {\"index\": 54, \"variable\": 3, \"value\": 19.0}, {\"index\": 55, \"variable\": 3, \"value\": 18.0}, {\"index\": 56, \"variable\": 3, \"value\": 19.0}, {\"index\": 57, \"variable\": 3, \"value\": 18.0}, {\"index\": 58, \"variable\": 3, \"value\": 17.0}, {\"index\": 59, \"variable\": 3, \"value\": 18.0}, {\"index\": 60, \"variable\": 3, \"value\": 19.0}, {\"index\": 61, \"variable\": 3, \"value\": 18.0}, {\"index\": 62, \"variable\": 3, \"value\": 17.0}, {\"index\": 63, \"variable\": 3, \"value\": 16.0}, {\"index\": 64, \"variable\": 3, \"value\": 17.0}, {\"index\": 65, \"variable\": 3, \"value\": 18.0}, {\"index\": 66, \"variable\": 3, \"value\": 17.0}, {\"index\": 67, \"variable\": 3, \"value\": 16.0}, {\"index\": 68, \"variable\": 3, \"value\": 17.0}, {\"index\": 69, \"variable\": 3, \"value\": 16.0}, {\"index\": 70, \"variable\": 3, \"value\": 15.5}, {\"index\": 71, \"variable\": 3, \"value\": 14.5}, {\"index\": 72, \"variable\": 3, \"value\": 15.5}, {\"index\": 73, \"variable\": 3, \"value\": 16.5}, {\"index\": 74, \"variable\": 3, \"value\": 17.5}, {\"index\": 75, \"variable\": 3, \"value\": 19.5}, {\"index\": 76, \"variable\": 3, \"value\": 18.5}, {\"index\": 77, \"variable\": 3, \"value\": 17.5}, {\"index\": 78, \"variable\": 3, \"value\": 18.5}, {\"index\": 79, \"variable\": 3, \"value\": 19.5}, {\"index\": 80, \"variable\": 3, \"value\": 20.5}, {\"index\": 81, \"variable\": 3, \"value\": 19.5}, {\"index\": 82, \"variable\": 3, \"value\": 20.5}, {\"index\": 83, \"variable\": 3, \"value\": 21.5}, {\"index\": 84, \"variable\": 3, \"value\": 20.5}, {\"index\": 85, \"variable\": 3, \"value\": 21.5}, {\"index\": 86, \"variable\": 3, \"value\": 20.5}, {\"index\": 87, \"variable\": 3, \"value\": 19.5}, {\"index\": 88, \"variable\": 3, \"value\": 18.5}, {\"index\": 89, \"variable\": 3, \"value\": 19.5}, {\"index\": 90, \"variable\": 3, \"value\": 20.5}, {\"index\": 91, \"variable\": 3, \"value\": 21.5}, {\"index\": 92, \"variable\": 3, \"value\": 21.5}, {\"index\": 93, \"variable\": 3, \"value\": 23.5}, {\"index\": 94, \"variable\": 3, \"value\": 24.5}, {\"index\": 95, \"variable\": 3, \"value\": 25.5}, {\"index\": 96, \"variable\": 3, \"value\": 25.0}, {\"index\": 97, \"variable\": 3, \"value\": 26.0}, {\"index\": 98, \"variable\": 3, \"value\": 25.0}, {\"index\": 99, \"variable\": 3, \"value\": 26.0}, {\"index\": 0, \"variable\": 4, \"value\": 19.0}, {\"index\": 1, \"variable\": 4, \"value\": 20.0}, {\"index\": 2, \"variable\": 4, \"value\": 22.0}, {\"index\": 3, \"variable\": 4, \"value\": 22.0}, {\"index\": 4, \"variable\": 4, \"value\": 21.0}, {\"index\": 5, \"variable\": 4, \"value\": 22.0}, {\"index\": 6, \"variable\": 4, \"value\": 21.0}, {\"index\": 7, \"variable\": 4, \"value\": 20.0}, {\"index\": 8, \"variable\": 4, \"value\": 19.0}, {\"index\": 9, \"variable\": 4, \"value\": 18.0}, {\"index\": 10, \"variable\": 4, \"value\": 19.0}, {\"index\": 11, \"variable\": 4, \"value\": 20.0}, {\"index\": 12, \"variable\": 4, \"value\": 19.0}, {\"index\": 13, \"variable\": 4, \"value\": 21.0}, {\"index\": 14, \"variable\": 4, \"value\": 29.0}, {\"index\": 15, \"variable\": 4, \"value\": 33.0}, {\"index\": 16, \"variable\": 4, \"value\": 37.0}, {\"index\": 17, \"variable\": 4, \"value\": 45.0}, {\"index\": 18, \"variable\": 4, \"value\": 47.0}, {\"index\": 19, \"variable\": 4, \"value\": 47.0}, {\"index\": 20, \"variable\": 4, \"value\": 48.0}, {\"index\": 21, \"variable\": 4, \"value\": 49.0}, {\"index\": 22, \"variable\": 4, \"value\": 48.0}, {\"index\": 23, \"variable\": 4, \"value\": 47.0}, {\"index\": 24, \"variable\": 4, \"value\": 45.0}, {\"index\": 25, \"variable\": 4, \"value\": 47.0}, {\"index\": 26, \"variable\": 4, \"value\": 46.0}, {\"index\": 27, \"variable\": 4, \"value\": 48.0}, {\"index\": 28, \"variable\": 4, \"value\": 49.0}, {\"index\": 29, \"variable\": 4, \"value\": 48.0}, {\"index\": 30, \"variable\": 4, \"value\": 49.0}, {\"index\": 31, \"variable\": 4, \"value\": 50.0}, {\"index\": 32, \"variable\": 4, \"value\": 49.0}, {\"index\": 33, \"variable\": 4, \"value\": 48.0}, {\"index\": 34, \"variable\": 4, \"value\": 50.0}, {\"index\": 35, \"variable\": 4, \"value\": 48.0}, {\"index\": 36, \"variable\": 4, \"value\": 46.0}, {\"index\": 37, \"variable\": 4, \"value\": 45.0}, {\"index\": 38, \"variable\": 4, \"value\": 46.0}, {\"index\": 39, \"variable\": 4, \"value\": 45.0}, {\"index\": 40, \"variable\": 4, \"value\": 46.0}, {\"index\": 41, \"variable\": 4, \"value\": 47.0}, {\"index\": 42, \"variable\": 4, \"value\": 46.0}, {\"index\": 43, \"variable\": 4, \"value\": 45.0}, {\"index\": 44, \"variable\": 4, \"value\": 43.0}, {\"index\": 45, \"variable\": 4, \"value\": 42.0}, {\"index\": 46, \"variable\": 4, \"value\": 43.0}, {\"index\": 47, \"variable\": 4, \"value\": 45.0}, {\"index\": 48, \"variable\": 4, \"value\": 44.0}, {\"index\": 49, \"variable\": 4, \"value\": 43.0}, {\"index\": 50, \"variable\": 4, \"value\": 45.0}, {\"index\": 51, \"variable\": 4, \"value\": 43.0}, {\"index\": 52, \"variable\": 4, \"value\": 44.0}, {\"index\": 53, \"variable\": 4, \"value\": 43.0}, {\"index\": 54, \"variable\": 4, \"value\": 42.0}, {\"index\": 55, \"variable\": 4, \"value\": 40.0}, {\"index\": 56, \"variable\": 4, \"value\": 41.0}, {\"index\": 57, \"variable\": 4, \"value\": 41.0}, {\"index\": 58, \"variable\": 4, \"value\": 42.0}, {\"index\": 59, \"variable\": 4, \"value\": 43.0}, {\"index\": 60, \"variable\": 4, \"value\": 44.0}, {\"index\": 61, \"variable\": 4, \"value\": 43.0}, {\"index\": 62, \"variable\": 4, \"value\": 42.0}, {\"index\": 63, \"variable\": 4, \"value\": 41.0}, {\"index\": 64, \"variable\": 4, \"value\": 42.0}, {\"index\": 65, \"variable\": 4, \"value\": 44.0}, {\"index\": 66, \"variable\": 4, \"value\": 45.0}, {\"index\": 67, \"variable\": 4, \"value\": 46.0}, {\"index\": 68, \"variable\": 4, \"value\": 45.0}, {\"index\": 69, \"variable\": 4, \"value\": 53.0}, {\"index\": 70, \"variable\": 4, \"value\": 45.0}, {\"index\": 71, \"variable\": 4, \"value\": 61.0}, {\"index\": 72, \"variable\": 4, \"value\": 53.0}, {\"index\": 73, \"variable\": 4, \"value\": 53.0}, {\"index\": 74, \"variable\": 4, \"value\": 49.0}, {\"index\": 75, \"variable\": 4, \"value\": 57.0}, {\"index\": 76, \"variable\": 4, \"value\": 65.0}, {\"index\": 77, \"variable\": 4, \"value\": 64.0}, {\"index\": 78, \"variable\": 4, \"value\": 65.0}, {\"index\": 79, \"variable\": 4, \"value\": 66.0}, {\"index\": 80, \"variable\": 4, \"value\": 67.0}, {\"index\": 81, \"variable\": 4, \"value\": 68.0}, {\"index\": 82, \"variable\": 4, \"value\": 69.0}, {\"index\": 83, \"variable\": 4, \"value\": 68.0}, {\"index\": 84, \"variable\": 4, \"value\": 60.0}, {\"index\": 85, \"variable\": 4, \"value\": 61.0}, {\"index\": 86, \"variable\": 4, \"value\": 60.0}, {\"index\": 87, \"variable\": 4, \"value\": 58.0}, {\"index\": 88, \"variable\": 4, \"value\": 70.0}, {\"index\": 89, \"variable\": 4, \"value\": 86.0}, {\"index\": 90, \"variable\": 4, \"value\": 94.0}, {\"index\": 91, \"variable\": 4, \"value\": 102.0}, {\"index\": 92, \"variable\": 4, \"value\": 110.0}, {\"index\": 93, \"variable\": 4, \"value\": 102.0}, {\"index\": 94, \"variable\": 4, \"value\": 98.0}, {\"index\": 95, \"variable\": 4, \"value\": 106.0}, {\"index\": 96, \"variable\": 4, \"value\": 107.0}, {\"index\": 97, \"variable\": 4, \"value\": 106.0}, {\"index\": 98, \"variable\": 4, \"value\": 108.0}, {\"index\": 99, \"variable\": 4, \"value\": 107.0}, {\"index\": 0, \"variable\": 5, \"value\": 19.5}, {\"index\": 1, \"variable\": 5, \"value\": 17.5}, {\"index\": 2, \"variable\": 5, \"value\": 18.5}, {\"index\": 3, \"variable\": 5, \"value\": 18.5}, {\"index\": 4, \"variable\": 5, \"value\": 19.5}, {\"index\": 5, \"variable\": 5, \"value\": 21.5}, {\"index\": 6, \"variable\": 5, \"value\": 21.5}, {\"index\": 7, \"variable\": 5, \"value\": 22.5}, {\"index\": 8, \"variable\": 5, \"value\": 21.5}, {\"index\": 9, \"variable\": 5, \"value\": 20.5}, {\"index\": 10, \"variable\": 5, \"value\": 21.5}, {\"index\": 11, \"variable\": 5, \"value\": 22.5}, {\"index\": 12, \"variable\": 5, \"value\": 22.5}, {\"index\": 13, \"variable\": 5, \"value\": 23.5}, {\"index\": 14, \"variable\": 5, \"value\": 22.5}, {\"index\": 15, \"variable\": 5, \"value\": 23.5}, {\"index\": 16, \"variable\": 5, \"value\": 22.5}, {\"index\": 17, \"variable\": 5, \"value\": 21.5}, {\"index\": 18, \"variable\": 5, \"value\": 22.5}, {\"index\": 19, \"variable\": 5, \"value\": 21.5}, {\"index\": 20, \"variable\": 5, \"value\": 20.5}, {\"index\": 21, \"variable\": 5, \"value\": 19.5}, {\"index\": 22, \"variable\": 5, \"value\": 18.5}, {\"index\": 23, \"variable\": 5, \"value\": 17.5}, {\"index\": 24, \"variable\": 5, \"value\": 18.5}, {\"index\": 25, \"variable\": 5, \"value\": 19.5}, {\"index\": 26, \"variable\": 5, \"value\": 20.5}, {\"index\": 27, \"variable\": 5, \"value\": 21.5}, {\"index\": 28, \"variable\": 5, \"value\": 17.5}, {\"index\": 29, \"variable\": 5, \"value\": 18.5}, {\"index\": 30, \"variable\": 5, \"value\": 17.5}, {\"index\": 31, \"variable\": 5, \"value\": 19.5}, {\"index\": 32, \"variable\": 5, \"value\": 18.5}, {\"index\": 33, \"variable\": 5, \"value\": 17.5}, {\"index\": 34, \"variable\": 5, \"value\": 16.5}, {\"index\": 35, \"variable\": 5, \"value\": 12.5}, {\"index\": 36, \"variable\": 5, \"value\": 6.5}, {\"index\": 37, \"variable\": 5, \"value\": 2.5}, {\"index\": 38, \"variable\": 5, \"value\": 10.5}, {\"index\": 39, \"variable\": 5, \"value\": 9.5}, {\"index\": 40, \"variable\": 5, \"value\": 8.5}, {\"index\": 41, \"variable\": 5, \"value\": 6.5}, {\"index\": 42, \"variable\": 5, \"value\": 0.5}, {\"index\": 43, \"variable\": 5, \"value\": -1.5}, {\"index\": 44, \"variable\": 5, \"value\": -7.5}, {\"index\": 45, \"variable\": 5, \"value\": -15.5}, {\"index\": 46, \"variable\": 5, \"value\": -7.5}, {\"index\": 47, \"variable\": 5, \"value\": -3.5}, {\"index\": 48, \"variable\": 5, \"value\": -4.5}, {\"index\": 49, \"variable\": 5, \"value\": -3.5}, {\"index\": 50, \"variable\": 5, \"value\": -4.0}, {\"index\": 51, \"variable\": 5, \"value\": -3.0}, {\"index\": 52, \"variable\": 5, \"value\": -2.0}, {\"index\": 53, \"variable\": 5, \"value\": 0.0}, {\"index\": 54, \"variable\": 5, \"value\": -1.0}, {\"index\": 55, \"variable\": 5, \"value\": -2.0}, {\"index\": 56, \"variable\": 5, \"value\": -6.0}, {\"index\": 57, \"variable\": 5, \"value\": -8.0}, {\"index\": 58, \"variable\": 5, \"value\": -8.5}, {\"index\": 59, \"variable\": 5, \"value\": -9.5}, {\"index\": 60, \"variable\": 5, \"value\": -10.5}, {\"index\": 61, \"variable\": 5, \"value\": -11.5}, {\"index\": 62, \"variable\": 5, \"value\": -12.5}, {\"index\": 63, \"variable\": 5, \"value\": -13.5}, {\"index\": 64, \"variable\": 5, \"value\": -12.5}, {\"index\": 65, \"variable\": 5, \"value\": -11.5}, {\"index\": 66, \"variable\": 5, \"value\": -10.5}, {\"index\": 67, \"variable\": 5, \"value\": -11.5}, {\"index\": 68, \"variable\": 5, \"value\": -9.5}, {\"index\": 69, \"variable\": 5, \"value\": -8.5}, {\"index\": 70, \"variable\": 5, \"value\": -9.5}, {\"index\": 71, \"variable\": 5, \"value\": -7.5}, {\"index\": 72, \"variable\": 5, \"value\": -9.5}, {\"index\": 73, \"variable\": 5, \"value\": -17.5}, {\"index\": 74, \"variable\": 5, \"value\": -9.5}, {\"index\": 75, \"variable\": 5, \"value\": -17.5}, {\"index\": 76, \"variable\": 5, \"value\": -9.5}, {\"index\": 77, \"variable\": 5, \"value\": -3.5}, {\"index\": 78, \"variable\": 5, \"value\": 0.5}, {\"index\": 79, \"variable\": 5, \"value\": -5.5}, {\"index\": 80, \"variable\": 5, \"value\": -6.5}, {\"index\": 81, \"variable\": 5, \"value\": -10.5}, {\"index\": 82, \"variable\": 5, \"value\": -2.5}, {\"index\": 83, \"variable\": 5, \"value\": 5.5}, {\"index\": 84, \"variable\": 5, \"value\": -2.5}, {\"index\": 85, \"variable\": 5, \"value\": 5.5}, {\"index\": 86, \"variable\": 5, \"value\": -2.5}, {\"index\": 87, \"variable\": 5, \"value\": 5.5}, {\"index\": 88, \"variable\": 5, \"value\": -0.5}, {\"index\": 89, \"variable\": 5, \"value\": -0.5}, {\"index\": 90, \"variable\": 5, \"value\": -1.5}, {\"index\": 91, \"variable\": 5, \"value\": -2.0}, {\"index\": 92, \"variable\": 5, \"value\": 0.0}, {\"index\": 93, \"variable\": 5, \"value\": 1.0}, {\"index\": 94, \"variable\": 5, \"value\": 2.0}, {\"index\": 95, \"variable\": 5, \"value\": 1.0}, {\"index\": 96, \"variable\": 5, \"value\": 0.0}, {\"index\": 97, \"variable\": 5, \"value\": 1.0}, {\"index\": 98, \"variable\": 5, \"value\": 0.0}, {\"index\": 99, \"variable\": 5, \"value\": -1.0}, {\"index\": 0, \"variable\": 6, \"value\": 19.0}, {\"index\": 1, \"variable\": 6, \"value\": 17.0}, {\"index\": 2, \"variable\": 6, \"value\": 16.0}, {\"index\": 3, \"variable\": 6, \"value\": 12.0}, {\"index\": 4, \"variable\": 6, \"value\": 12.0}, {\"index\": 5, \"variable\": 6, \"value\": 12.0}, {\"index\": 6, \"variable\": 6, \"value\": 10.0}, {\"index\": 7, \"variable\": 6, \"value\": 14.0}, {\"index\": 8, \"variable\": 6, \"value\": 18.0}, {\"index\": 9, \"variable\": 6, \"value\": 16.0}, {\"index\": 10, \"variable\": 6, \"value\": 14.0}, {\"index\": 11, \"variable\": 6, \"value\": 20.0}, {\"index\": 12, \"variable\": 6, \"value\": 26.0}, {\"index\": 13, \"variable\": 6, \"value\": 34.0}, {\"index\": 14, \"variable\": 6, \"value\": 42.0}, {\"index\": 15, \"variable\": 6, \"value\": 50.0}, {\"index\": 16, \"variable\": 6, \"value\": 54.0}, {\"index\": 17, \"variable\": 6, \"value\": 58.0}, {\"index\": 18, \"variable\": 6, \"value\": 64.0}, {\"index\": 19, \"variable\": 6, \"value\": 60.0}, {\"index\": 20, \"variable\": 6, \"value\": 61.0}, {\"index\": 21, \"variable\": 6, \"value\": 60.0}, {\"index\": 22, \"variable\": 6, \"value\": 58.0}, {\"index\": 23, \"variable\": 6, \"value\": 57.0}, {\"index\": 24, \"variable\": 6, \"value\": 58.0}, {\"index\": 25, \"variable\": 6, \"value\": 57.5}, {\"index\": 26, \"variable\": 6, \"value\": 58.5}, {\"index\": 27, \"variable\": 6, \"value\": 56.5}, {\"index\": 28, \"variable\": 6, \"value\": 57.5}, {\"index\": 29, \"variable\": 6, \"value\": 57.5}, {\"index\": 30, \"variable\": 6, \"value\": 56.5}, {\"index\": 31, \"variable\": 6, \"value\": 55.5}, {\"index\": 32, \"variable\": 6, \"value\": 55.0}, {\"index\": 33, \"variable\": 6, \"value\": 57.0}, {\"index\": 34, \"variable\": 6, \"value\": 65.0}, {\"index\": 35, \"variable\": 6, \"value\": 63.0}, {\"index\": 36, \"variable\": 6, \"value\": 64.0}, {\"index\": 37, \"variable\": 6, \"value\": 65.0}, {\"index\": 38, \"variable\": 6, \"value\": 64.0}, {\"index\": 39, \"variable\": 6, \"value\": 65.0}, {\"index\": 40, \"variable\": 6, \"value\": 66.0}, {\"index\": 41, \"variable\": 6, \"value\": 60.0}, {\"index\": 42, \"variable\": 6, \"value\": 58.0}, {\"index\": 43, \"variable\": 6, \"value\": 74.0}, {\"index\": 44, \"variable\": 6, \"value\": 74.0}, {\"index\": 45, \"variable\": 6, \"value\": 66.0}, {\"index\": 46, \"variable\": 6, \"value\": 74.0}, {\"index\": 47, \"variable\": 6, \"value\": 82.0}, {\"index\": 48, \"variable\": 6, \"value\": 74.0}, {\"index\": 49, \"variable\": 6, \"value\": 73.0}, {\"index\": 50, \"variable\": 6, \"value\": 73.0}, {\"index\": 51, \"variable\": 6, \"value\": 72.0}, {\"index\": 52, \"variable\": 6, \"value\": 71.5}, {\"index\": 53, \"variable\": 6, \"value\": 71.5}, {\"index\": 54, \"variable\": 6, \"value\": 65.5}, {\"index\": 55, \"variable\": 6, \"value\": 81.5}, {\"index\": 56, \"variable\": 6, \"value\": 73.5}, {\"index\": 57, \"variable\": 6, \"value\": 65.5}, {\"index\": 58, \"variable\": 6, \"value\": 57.5}, {\"index\": 59, \"variable\": 6, \"value\": 56.5}, {\"index\": 60, \"variable\": 6, \"value\": 55.5}, {\"index\": 61, \"variable\": 6, \"value\": 53.5}, {\"index\": 62, \"variable\": 6, \"value\": 55.5}, {\"index\": 63, \"variable\": 6, \"value\": 56.5}, {\"index\": 64, \"variable\": 6, \"value\": 55.5}, {\"index\": 65, \"variable\": 6, \"value\": 63.5}, {\"index\": 66, \"variable\": 6, \"value\": 65.5}, {\"index\": 67, \"variable\": 6, \"value\": 64.5}, {\"index\": 68, \"variable\": 6, \"value\": 62.5}, {\"index\": 69, \"variable\": 6, \"value\": 61.5}, {\"index\": 70, \"variable\": 6, \"value\": 69.5}, {\"index\": 71, \"variable\": 6, \"value\": 67.5}, {\"index\": 72, \"variable\": 6, \"value\": 66.5}, {\"index\": 73, \"variable\": 6, \"value\": 65.5}, {\"index\": 74, \"variable\": 6, \"value\": 66.5}, {\"index\": 75, \"variable\": 6, \"value\": 65.5}, {\"index\": 76, \"variable\": 6, \"value\": 66.5}, {\"index\": 77, \"variable\": 6, \"value\": 65.5}, {\"index\": 78, \"variable\": 6, \"value\": 67.5}, {\"index\": 79, \"variable\": 6, \"value\": 69.5}, {\"index\": 80, \"variable\": 6, \"value\": 69.5}, {\"index\": 81, \"variable\": 6, \"value\": 85.5}, {\"index\": 82, \"variable\": 6, \"value\": 79.5}, {\"index\": 83, \"variable\": 6, \"value\": 71.5}, {\"index\": 84, \"variable\": 6, \"value\": 79.5}, {\"index\": 85, \"variable\": 6, \"value\": 71.5}, {\"index\": 86, \"variable\": 6, \"value\": 63.5}, {\"index\": 87, \"variable\": 6, \"value\": 60.5}, {\"index\": 88, \"variable\": 6, \"value\": 64.5}, {\"index\": 89, \"variable\": 6, \"value\": 65.5}, {\"index\": 90, \"variable\": 6, \"value\": 63.5}, {\"index\": 91, \"variable\": 6, \"value\": 64.5}, {\"index\": 92, \"variable\": 6, \"value\": 64.0}, {\"index\": 93, \"variable\": 6, \"value\": 63.0}, {\"index\": 94, \"variable\": 6, \"value\": 67.0}, {\"index\": 95, \"variable\": 6, \"value\": 59.0}, {\"index\": 96, \"variable\": 6, \"value\": 53.0}, {\"index\": 97, \"variable\": 6, \"value\": 55.0}, {\"index\": 98, \"variable\": 6, \"value\": 57.0}, {\"index\": 99, \"variable\": 6, \"value\": 58.0}, {\"index\": 0, \"variable\": 7, \"value\": 18.0}, {\"index\": 1, \"variable\": 7, \"value\": 19.0}, {\"index\": 2, \"variable\": 7, \"value\": 18.5}, {\"index\": 3, \"variable\": 7, \"value\": 17.5}, {\"index\": 4, \"variable\": 7, \"value\": 18.5}, {\"index\": 5, \"variable\": 7, \"value\": 20.5}, {\"index\": 6, \"variable\": 7, \"value\": 21.5}, {\"index\": 7, \"variable\": 7, \"value\": 22.5}, {\"index\": 8, \"variable\": 7, \"value\": 21.5}, {\"index\": 9, \"variable\": 7, \"value\": 22.5}, {\"index\": 10, \"variable\": 7, \"value\": 21.5}, {\"index\": 11, \"variable\": 7, \"value\": 15.5}, {\"index\": 12, \"variable\": 7, \"value\": 11.5}, {\"index\": 13, \"variable\": 7, \"value\": 9.5}, {\"index\": 14, \"variable\": 7, \"value\": 10.5}, {\"index\": 15, \"variable\": 7, \"value\": 9.5}, {\"index\": 16, \"variable\": 7, \"value\": 10.5}, {\"index\": 17, \"variable\": 7, \"value\": 10.5}, {\"index\": 18, \"variable\": 7, \"value\": 11.5}, {\"index\": 19, \"variable\": 7, \"value\": 10.5}, {\"index\": 20, \"variable\": 7, \"value\": 9.5}, {\"index\": 21, \"variable\": 7, \"value\": 8.5}, {\"index\": 22, \"variable\": 7, \"value\": 9.5}, {\"index\": 23, \"variable\": 7, \"value\": 8.5}, {\"index\": 24, \"variable\": 7, \"value\": 9.5}, {\"index\": 25, \"variable\": 7, \"value\": 8.5}, {\"index\": 26, \"variable\": 7, \"value\": 7.5}, {\"index\": 27, \"variable\": 7, \"value\": 8.5}, {\"index\": 28, \"variable\": 7, \"value\": 9.5}, {\"index\": 29, \"variable\": 7, \"value\": 9.0}, {\"index\": 30, \"variable\": 7, \"value\": 8.0}, {\"index\": 31, \"variable\": 7, \"value\": 9.0}, {\"index\": 32, \"variable\": 7, \"value\": 7.0}, {\"index\": 33, \"variable\": 7, \"value\": 9.0}, {\"index\": 34, \"variable\": 7, \"value\": 10.0}, {\"index\": 35, \"variable\": 7, \"value\": 11.0}, {\"index\": 36, \"variable\": 7, \"value\": 10.0}, {\"index\": 37, \"variable\": 7, \"value\": 9.0}, {\"index\": 38, \"variable\": 7, \"value\": 8.0}, {\"index\": 39, \"variable\": 7, \"value\": 9.0}, {\"index\": 40, \"variable\": 7, \"value\": 8.0}, {\"index\": 41, \"variable\": 7, \"value\": 12.0}, {\"index\": 42, \"variable\": 7, \"value\": 14.0}, {\"index\": 43, \"variable\": 7, \"value\": 13.5}, {\"index\": 44, \"variable\": 7, \"value\": 12.5}, {\"index\": 45, \"variable\": 7, \"value\": 11.5}, {\"index\": 46, \"variable\": 7, \"value\": 13.5}, {\"index\": 47, \"variable\": 7, \"value\": 14.5}, {\"index\": 48, \"variable\": 7, \"value\": 15.5}, {\"index\": 49, \"variable\": 7, \"value\": 16.5}, {\"index\": 50, \"variable\": 7, \"value\": 17.5}, {\"index\": 51, \"variable\": 7, \"value\": 16.5}, {\"index\": 52, \"variable\": 7, \"value\": 17.5}, {\"index\": 53, \"variable\": 7, \"value\": 15.5}, {\"index\": 54, \"variable\": 7, \"value\": 7.5}, {\"index\": 55, \"variable\": 7, \"value\": -0.5}, {\"index\": 56, \"variable\": 7, \"value\": 5.5}, {\"index\": 57, \"variable\": 7, \"value\": 1.5}, {\"index\": 58, \"variable\": 7, \"value\": 9.5}, {\"index\": 59, \"variable\": 7, \"value\": 17.5}, {\"index\": 60, \"variable\": 7, \"value\": 18.5}, {\"index\": 61, \"variable\": 7, \"value\": 17.5}, {\"index\": 62, \"variable\": 7, \"value\": 21.5}, {\"index\": 63, \"variable\": 7, \"value\": 19.5}, {\"index\": 64, \"variable\": 7, \"value\": 21.5}, {\"index\": 65, \"variable\": 7, \"value\": 19.5}, {\"index\": 66, \"variable\": 7, \"value\": 18.5}, {\"index\": 67, \"variable\": 7, \"value\": 17.5}, {\"index\": 68, \"variable\": 7, \"value\": 16.5}, {\"index\": 69, \"variable\": 7, \"value\": 15.5}, {\"index\": 70, \"variable\": 7, \"value\": 14.5}, {\"index\": 71, \"variable\": 7, \"value\": 13.5}, {\"index\": 72, \"variable\": 7, \"value\": 14.5}, {\"index\": 73, \"variable\": 7, \"value\": 16.5}, {\"index\": 74, \"variable\": 7, \"value\": 14.5}, {\"index\": 75, \"variable\": 7, \"value\": 6.5}, {\"index\": 76, \"variable\": 7, \"value\": 10.5}, {\"index\": 77, \"variable\": 7, \"value\": 14.5}, {\"index\": 78, \"variable\": 7, \"value\": 13.5}, {\"index\": 79, \"variable\": 7, \"value\": 12.5}, {\"index\": 80, \"variable\": 7, \"value\": 12.5}, {\"index\": 81, \"variable\": 7, \"value\": 11.5}, {\"index\": 82, \"variable\": 7, \"value\": 13.5}, {\"index\": 83, \"variable\": 7, \"value\": 14.5}, {\"index\": 84, \"variable\": 7, \"value\": 14.5}, {\"index\": 85, \"variable\": 7, \"value\": 15.5}, {\"index\": 86, \"variable\": 7, \"value\": 14.5}, {\"index\": 87, \"variable\": 7, \"value\": 13.5}, {\"index\": 88, \"variable\": 7, \"value\": 11.5}, {\"index\": 89, \"variable\": 7, \"value\": 12.5}, {\"index\": 90, \"variable\": 7, \"value\": 8.5}, {\"index\": 91, \"variable\": 7, \"value\": 7.5}, {\"index\": 92, \"variable\": 7, \"value\": 6.5}, {\"index\": 93, \"variable\": 7, \"value\": 8.5}, {\"index\": 94, \"variable\": 7, \"value\": 9.5}, {\"index\": 95, \"variable\": 7, \"value\": 10.5}, {\"index\": 96, \"variable\": 7, \"value\": 11.5}, {\"index\": 97, \"variable\": 7, \"value\": 12.5}, {\"index\": 98, \"variable\": 7, \"value\": 14.5}, {\"index\": 99, \"variable\": 7, \"value\": 15.5}, {\"index\": 0, \"variable\": 8, \"value\": 19.0}, {\"index\": 1, \"variable\": 8, \"value\": 15.0}, {\"index\": 2, \"variable\": 8, \"value\": 15.0}, {\"index\": 3, \"variable\": 8, \"value\": 13.0}, {\"index\": 4, \"variable\": 8, \"value\": 14.0}, {\"index\": 5, \"variable\": 8, \"value\": 13.0}, {\"index\": 6, \"variable\": 8, \"value\": 15.0}, {\"index\": 7, \"variable\": 8, \"value\": 19.0}, {\"index\": 8, \"variable\": 8, \"value\": 15.0}, {\"index\": 9, \"variable\": 8, \"value\": 16.0}, {\"index\": 10, \"variable\": 8, \"value\": 15.0}, {\"index\": 11, \"variable\": 8, \"value\": 14.0}, {\"index\": 12, \"variable\": 8, \"value\": 15.0}, {\"index\": 13, \"variable\": 8, \"value\": 16.0}, {\"index\": 14, \"variable\": 8, \"value\": 17.0}, {\"index\": 15, \"variable\": 8, \"value\": 16.0}, {\"index\": 16, \"variable\": 8, \"value\": 17.0}, {\"index\": 17, \"variable\": 8, \"value\": 18.0}, {\"index\": 18, \"variable\": 8, \"value\": 17.0}, {\"index\": 19, \"variable\": 8, \"value\": 18.0}, {\"index\": 20, \"variable\": 8, \"value\": 20.0}, {\"index\": 21, \"variable\": 8, \"value\": 19.0}, {\"index\": 22, \"variable\": 8, \"value\": 18.0}, {\"index\": 23, \"variable\": 8, \"value\": 17.0}, {\"index\": 24, \"variable\": 8, \"value\": 16.0}, {\"index\": 25, \"variable\": 8, \"value\": 24.0}, {\"index\": 26, \"variable\": 8, \"value\": 20.0}, {\"index\": 27, \"variable\": 8, \"value\": 20.0}, {\"index\": 28, \"variable\": 8, \"value\": 20.0}, {\"index\": 29, \"variable\": 8, \"value\": 21.0}, {\"index\": 30, \"variable\": 8, \"value\": 22.0}, {\"index\": 31, \"variable\": 8, \"value\": 21.0}, {\"index\": 32, \"variable\": 8, \"value\": 22.0}, {\"index\": 33, \"variable\": 8, \"value\": 23.0}, {\"index\": 34, \"variable\": 8, \"value\": 21.0}, {\"index\": 35, \"variable\": 8, \"value\": 20.0}, {\"index\": 36, \"variable\": 8, \"value\": 12.0}, {\"index\": 37, \"variable\": 8, \"value\": 16.0}, {\"index\": 38, \"variable\": 8, \"value\": 18.0}, {\"index\": 39, \"variable\": 8, \"value\": 17.0}, {\"index\": 40, \"variable\": 8, \"value\": 16.0}, {\"index\": 41, \"variable\": 8, \"value\": 17.0}, {\"index\": 42, \"variable\": 8, \"value\": 16.0}, {\"index\": 43, \"variable\": 8, \"value\": 17.0}, {\"index\": 44, \"variable\": 8, \"value\": 17.0}, {\"index\": 45, \"variable\": 8, \"value\": 16.0}, {\"index\": 46, \"variable\": 8, \"value\": 14.0}, {\"index\": 47, \"variable\": 8, \"value\": 6.0}, {\"index\": 48, \"variable\": 8, \"value\": 4.0}, {\"index\": 49, \"variable\": 8, \"value\": 3.5}, {\"index\": 50, \"variable\": 8, \"value\": 3.0}, {\"index\": 51, \"variable\": 8, \"value\": 4.0}, {\"index\": 52, \"variable\": 8, \"value\": 5.0}, {\"index\": 53, \"variable\": 8, \"value\": 4.0}, {\"index\": 54, \"variable\": 8, \"value\": 5.0}, {\"index\": 55, \"variable\": 8, \"value\": 6.0}, {\"index\": 56, \"variable\": 8, \"value\": 5.0}, {\"index\": 57, \"variable\": 8, \"value\": 6.0}, {\"index\": 58, \"variable\": 8, \"value\": 7.0}, {\"index\": 59, \"variable\": 8, \"value\": 5.0}, {\"index\": 60, \"variable\": 8, \"value\": 4.0}, {\"index\": 61, \"variable\": 8, \"value\": 3.0}, {\"index\": 62, \"variable\": 8, \"value\": 9.0}, {\"index\": 63, \"variable\": 8, \"value\": 3.0}, {\"index\": 64, \"variable\": 8, \"value\": -3.0}, {\"index\": 65, \"variable\": 8, \"value\": -1.0}, {\"index\": 66, \"variable\": 8, \"value\": -3.0}, {\"index\": 67, \"variable\": 8, \"value\": -3.5}, {\"index\": 68, \"variable\": 8, \"value\": -3.5}, {\"index\": 69, \"variable\": 8, \"value\": -2.5}, {\"index\": 70, \"variable\": 8, \"value\": -3.5}, {\"index\": 71, \"variable\": 8, \"value\": -4.5}, {\"index\": 72, \"variable\": 8, \"value\": -4.5}, {\"index\": 73, \"variable\": 8, \"value\": -3.5}, {\"index\": 74, \"variable\": 8, \"value\": -4.5}, {\"index\": 75, \"variable\": 8, \"value\": -6.5}, {\"index\": 76, \"variable\": 8, \"value\": -7.5}, {\"index\": 77, \"variable\": 8, \"value\": -8.5}, {\"index\": 78, \"variable\": 8, \"value\": -8.5}, {\"index\": 79, \"variable\": 8, \"value\": -9.5}, {\"index\": 80, \"variable\": 8, \"value\": -10.5}, {\"index\": 81, \"variable\": 8, \"value\": -11.5}, {\"index\": 82, \"variable\": 8, \"value\": -12.5}, {\"index\": 83, \"variable\": 8, \"value\": -11.5}, {\"index\": 84, \"variable\": 8, \"value\": -11.5}, {\"index\": 85, \"variable\": 8, \"value\": -7.5}, {\"index\": 86, \"variable\": 8, \"value\": -3.5}, {\"index\": 87, \"variable\": 8, \"value\": -2.5}, {\"index\": 88, \"variable\": 8, \"value\": -4.5}, {\"index\": 89, \"variable\": 8, \"value\": -5.5}, {\"index\": 90, \"variable\": 8, \"value\": -6.5}, {\"index\": 91, \"variable\": 8, \"value\": -5.5}, {\"index\": 92, \"variable\": 8, \"value\": -5.5}, {\"index\": 93, \"variable\": 8, \"value\": -6.0}, {\"index\": 94, \"variable\": 8, \"value\": -7.0}, {\"index\": 95, \"variable\": 8, \"value\": -6.0}, {\"index\": 96, \"variable\": 8, \"value\": -7.0}, {\"index\": 97, \"variable\": 8, \"value\": -7.0}, {\"index\": 98, \"variable\": 8, \"value\": -5.0}, {\"index\": 99, \"variable\": 8, \"value\": -6.0}, {\"index\": 0, \"variable\": 9, \"value\": 21.0}, {\"index\": 1, \"variable\": 9, \"value\": 22.0}, {\"index\": 2, \"variable\": 9, \"value\": 21.0}, {\"index\": 3, \"variable\": 9, \"value\": 20.0}, {\"index\": 4, \"variable\": 9, \"value\": 19.0}, {\"index\": 5, \"variable\": 9, \"value\": 18.0}, {\"index\": 6, \"variable\": 9, \"value\": 17.0}, {\"index\": 7, \"variable\": 9, \"value\": 16.0}, {\"index\": 8, \"variable\": 9, \"value\": 17.0}, {\"index\": 9, \"variable\": 9, \"value\": 16.0}, {\"index\": 10, \"variable\": 9, \"value\": 17.0}, {\"index\": 11, \"variable\": 9, \"value\": 18.0}, {\"index\": 12, \"variable\": 9, \"value\": 20.0}, {\"index\": 13, \"variable\": 9, \"value\": 21.0}, {\"index\": 14, \"variable\": 9, \"value\": 21.0}, {\"index\": 15, \"variable\": 9, \"value\": 20.0}, {\"index\": 16, \"variable\": 9, \"value\": 21.0}, {\"index\": 17, \"variable\": 9, \"value\": 22.0}, {\"index\": 18, \"variable\": 9, \"value\": 21.0}, {\"index\": 19, \"variable\": 9, \"value\": 19.0}, {\"index\": 20, \"variable\": 9, \"value\": 21.0}, {\"index\": 21, \"variable\": 9, \"value\": 25.0}, {\"index\": 22, \"variable\": 9, \"value\": 27.0}, {\"index\": 23, \"variable\": 9, \"value\": 23.0}, {\"index\": 24, \"variable\": 9, \"value\": 22.5}, {\"index\": 25, \"variable\": 9, \"value\": 21.5}, {\"index\": 26, \"variable\": 9, \"value\": 20.5}, {\"index\": 27, \"variable\": 9, \"value\": 19.5}, {\"index\": 28, \"variable\": 9, \"value\": 19.0}, {\"index\": 29, \"variable\": 9, \"value\": 18.0}, {\"index\": 30, \"variable\": 9, \"value\": 19.0}, {\"index\": 31, \"variable\": 9, \"value\": 21.0}, {\"index\": 32, \"variable\": 9, \"value\": 20.5}, {\"index\": 33, \"variable\": 9, \"value\": 21.5}, {\"index\": 34, \"variable\": 9, \"value\": 20.5}, {\"index\": 35, \"variable\": 9, \"value\": 21.5}, {\"index\": 36, \"variable\": 9, \"value\": 19.5}, {\"index\": 37, \"variable\": 9, \"value\": 18.5}, {\"index\": 38, \"variable\": 9, \"value\": 19.5}, {\"index\": 39, \"variable\": 9, \"value\": 21.5}, {\"index\": 40, \"variable\": 9, \"value\": 22.5}, {\"index\": 41, \"variable\": 9, \"value\": 21.5}, {\"index\": 42, \"variable\": 9, \"value\": 20.5}, {\"index\": 43, \"variable\": 9, \"value\": 21.5}, {\"index\": 44, \"variable\": 9, \"value\": 20.5}, {\"index\": 45, \"variable\": 9, \"value\": 19.5}, {\"index\": 46, \"variable\": 9, \"value\": 19.5}, {\"index\": 47, \"variable\": 9, \"value\": 18.5}, {\"index\": 48, \"variable\": 9, \"value\": 19.5}, {\"index\": 49, \"variable\": 9, \"value\": 18.5}, {\"index\": 50, \"variable\": 9, \"value\": 17.5}, {\"index\": 51, \"variable\": 9, \"value\": 9.5}, {\"index\": 52, \"variable\": 9, \"value\": 13.5}, {\"index\": 53, \"variable\": 9, \"value\": 14.5}, {\"index\": 54, \"variable\": 9, \"value\": 15.5}, {\"index\": 55, \"variable\": 9, \"value\": 14.5}, {\"index\": 56, \"variable\": 9, \"value\": 13.5}, {\"index\": 57, \"variable\": 9, \"value\": 15.5}, {\"index\": 58, \"variable\": 9, \"value\": 14.5}, {\"index\": 59, \"variable\": 9, \"value\": 14.5}, {\"index\": 60, \"variable\": 9, \"value\": 12.5}, {\"index\": 61, \"variable\": 9, \"value\": 10.5}, {\"index\": 62, \"variable\": 9, \"value\": 11.5}, {\"index\": 63, \"variable\": 9, \"value\": 13.5}, {\"index\": 64, \"variable\": 9, \"value\": 5.5}, {\"index\": 65, \"variable\": 9, \"value\": 13.5}, {\"index\": 66, \"variable\": 9, \"value\": 17.5}, {\"index\": 67, \"variable\": 9, \"value\": 16.5}, {\"index\": 68, \"variable\": 9, \"value\": 12.5}, {\"index\": 69, \"variable\": 9, \"value\": 12.0}, {\"index\": 70, \"variable\": 9, \"value\": 13.0}, {\"index\": 71, \"variable\": 9, \"value\": 12.0}, {\"index\": 72, \"variable\": 9, \"value\": 16.0}, {\"index\": 73, \"variable\": 9, \"value\": 17.0}, {\"index\": 74, \"variable\": 9, \"value\": 16.0}, {\"index\": 75, \"variable\": 9, \"value\": 20.0}, {\"index\": 76, \"variable\": 9, \"value\": 24.0}, {\"index\": 77, \"variable\": 9, \"value\": 25.0}, {\"index\": 78, \"variable\": 9, \"value\": 26.0}, {\"index\": 79, \"variable\": 9, \"value\": 25.0}, {\"index\": 80, \"variable\": 9, \"value\": 27.0}, {\"index\": 81, \"variable\": 9, \"value\": 26.0}, {\"index\": 82, \"variable\": 9, \"value\": 25.0}, {\"index\": 83, \"variable\": 9, \"value\": 26.0}, {\"index\": 84, \"variable\": 9, \"value\": 26.0}, {\"index\": 85, \"variable\": 9, \"value\": 25.0}, {\"index\": 86, \"variable\": 9, \"value\": 26.0}, {\"index\": 87, \"variable\": 9, \"value\": 26.0}, {\"index\": 88, \"variable\": 9, \"value\": 25.5}, {\"index\": 89, \"variable\": 9, \"value\": 23.5}, {\"index\": 90, \"variable\": 9, \"value\": 22.5}, {\"index\": 91, \"variable\": 9, \"value\": 23.5}, {\"index\": 92, \"variable\": 9, \"value\": 22.5}, {\"index\": 93, \"variable\": 9, \"value\": 23.5}, {\"index\": 94, \"variable\": 9, \"value\": 25.5}, {\"index\": 95, \"variable\": 9, \"value\": 26.5}, {\"index\": 96, \"variable\": 9, \"value\": 24.5}, {\"index\": 97, \"variable\": 9, \"value\": 23.5}, {\"index\": 98, \"variable\": 9, \"value\": 24.5}, {\"index\": 99, \"variable\": 9, \"value\": 23.5}, {\"index\": 0, \"variable\": 10, \"value\": 19.0}, {\"index\": 1, \"variable\": 10, \"value\": 18.0}, {\"index\": 2, \"variable\": 10, \"value\": 17.5}, {\"index\": 3, \"variable\": 10, \"value\": 15.5}, {\"index\": 4, \"variable\": 10, \"value\": 17.5}, {\"index\": 5, \"variable\": 10, \"value\": 18.5}, {\"index\": 6, \"variable\": 10, \"value\": 17.5}, {\"index\": 7, \"variable\": 10, \"value\": 18.5}, {\"index\": 8, \"variable\": 10, \"value\": 18.5}, {\"index\": 9, \"variable\": 10, \"value\": 17.5}, {\"index\": 10, \"variable\": 10, \"value\": 16.5}, {\"index\": 11, \"variable\": 10, \"value\": 15.5}, {\"index\": 12, \"variable\": 10, \"value\": 14.5}, {\"index\": 13, \"variable\": 10, \"value\": 15.5}, {\"index\": 14, \"variable\": 10, \"value\": 16.5}, {\"index\": 15, \"variable\": 10, \"value\": 14.5}, {\"index\": 16, \"variable\": 10, \"value\": 16.5}, {\"index\": 17, \"variable\": 10, \"value\": 12.5}, {\"index\": 18, \"variable\": 10, \"value\": 18.5}, {\"index\": 19, \"variable\": 10, \"value\": 20.5}, {\"index\": 20, \"variable\": 10, \"value\": 22.5}, {\"index\": 21, \"variable\": 10, \"value\": 23.5}, {\"index\": 22, \"variable\": 10, \"value\": 23.5}, {\"index\": 23, \"variable\": 10, \"value\": 21.5}, {\"index\": 24, \"variable\": 10, \"value\": 20.5}, {\"index\": 25, \"variable\": 10, \"value\": 22.5}, {\"index\": 26, \"variable\": 10, \"value\": 23.5}, {\"index\": 27, \"variable\": 10, \"value\": 24.5}, {\"index\": 28, \"variable\": 10, \"value\": 23.5}, {\"index\": 29, \"variable\": 10, \"value\": 24.5}, {\"index\": 30, \"variable\": 10, \"value\": 25.5}, {\"index\": 31, \"variable\": 10, \"value\": 26.5}, {\"index\": 32, \"variable\": 10, \"value\": 27.5}, {\"index\": 33, \"variable\": 10, \"value\": 28.5}, {\"index\": 34, \"variable\": 10, \"value\": 29.5}, {\"index\": 35, \"variable\": 10, \"value\": 27.5}, {\"index\": 36, \"variable\": 10, \"value\": 26.5}, {\"index\": 37, \"variable\": 10, \"value\": 25.5}, {\"index\": 38, \"variable\": 10, \"value\": 26.5}, {\"index\": 39, \"variable\": 10, \"value\": 25.5}, {\"index\": 40, \"variable\": 10, \"value\": 24.5}, {\"index\": 41, \"variable\": 10, \"value\": 26.5}, {\"index\": 42, \"variable\": 10, \"value\": 28.5}, {\"index\": 43, \"variable\": 10, \"value\": 30.5}, {\"index\": 44, \"variable\": 10, \"value\": 28.5}, {\"index\": 45, \"variable\": 10, \"value\": 28.0}, {\"index\": 46, \"variable\": 10, \"value\": 28.0}, {\"index\": 47, \"variable\": 10, \"value\": 27.0}, {\"index\": 48, \"variable\": 10, \"value\": 26.0}, {\"index\": 49, \"variable\": 10, \"value\": 25.0}, {\"index\": 50, \"variable\": 10, \"value\": 26.0}, {\"index\": 51, \"variable\": 10, \"value\": 27.0}, {\"index\": 52, \"variable\": 10, \"value\": 26.5}, {\"index\": 53, \"variable\": 10, \"value\": 27.5}, {\"index\": 54, \"variable\": 10, \"value\": 26.5}, {\"index\": 55, \"variable\": 10, \"value\": 27.5}, {\"index\": 56, \"variable\": 10, \"value\": 28.5}, {\"index\": 57, \"variable\": 10, \"value\": 27.5}, {\"index\": 58, \"variable\": 10, \"value\": 26.5}, {\"index\": 59, \"variable\": 10, \"value\": 27.5}, {\"index\": 60, \"variable\": 10, \"value\": 26.5}, {\"index\": 61, \"variable\": 10, \"value\": 27.5}, {\"index\": 62, \"variable\": 10, \"value\": 28.5}, {\"index\": 63, \"variable\": 10, \"value\": 27.5}, {\"index\": 64, \"variable\": 10, \"value\": 26.5}, {\"index\": 65, \"variable\": 10, \"value\": 25.5}, {\"index\": 66, \"variable\": 10, \"value\": 27.5}, {\"index\": 67, \"variable\": 10, \"value\": 27.0}, {\"index\": 68, \"variable\": 10, \"value\": 28.0}, {\"index\": 69, \"variable\": 10, \"value\": 27.0}, {\"index\": 70, \"variable\": 10, \"value\": 26.0}, {\"index\": 71, \"variable\": 10, \"value\": 27.0}, {\"index\": 72, \"variable\": 10, \"value\": 26.0}, {\"index\": 73, \"variable\": 10, \"value\": 25.0}, {\"index\": 74, \"variable\": 10, \"value\": 24.0}, {\"index\": 75, \"variable\": 10, \"value\": 25.0}, {\"index\": 76, \"variable\": 10, \"value\": 27.0}, {\"index\": 77, \"variable\": 10, \"value\": 27.0}, {\"index\": 78, \"variable\": 10, \"value\": 31.0}, {\"index\": 79, \"variable\": 10, \"value\": 32.0}, {\"index\": 80, \"variable\": 10, \"value\": 30.0}, {\"index\": 81, \"variable\": 10, \"value\": 29.0}, {\"index\": 82, \"variable\": 10, \"value\": 28.0}, {\"index\": 83, \"variable\": 10, \"value\": 29.0}, {\"index\": 84, \"variable\": 10, \"value\": 28.5}, {\"index\": 85, \"variable\": 10, \"value\": 27.5}, {\"index\": 86, \"variable\": 10, \"value\": 27.5}, {\"index\": 87, \"variable\": 10, \"value\": 26.5}, {\"index\": 88, \"variable\": 10, \"value\": 24.5}, {\"index\": 89, \"variable\": 10, \"value\": 28.5}, {\"index\": 90, \"variable\": 10, \"value\": 29.5}, {\"index\": 91, \"variable\": 10, \"value\": 27.5}, {\"index\": 92, \"variable\": 10, \"value\": 26.5}, {\"index\": 93, \"variable\": 10, \"value\": 25.5}, {\"index\": 94, \"variable\": 10, \"value\": 26.5}, {\"index\": 95, \"variable\": 10, \"value\": 27.5}, {\"index\": 96, \"variable\": 10, \"value\": 26.5}, {\"index\": 97, \"variable\": 10, \"value\": 27.5}, {\"index\": 98, \"variable\": 10, \"value\": 28.5}, {\"index\": 99, \"variable\": 10, \"value\": 29.5}, {\"index\": 0, \"variable\": 11, \"value\": 18.0}, {\"index\": 1, \"variable\": 11, \"value\": 17.0}, {\"index\": 2, \"variable\": 11, \"value\": 16.0}, {\"index\": 3, \"variable\": 11, \"value\": 17.0}, {\"index\": 4, \"variable\": 11, \"value\": 18.0}, {\"index\": 5, \"variable\": 11, \"value\": 17.0}, {\"index\": 6, \"variable\": 11, \"value\": 13.0}, {\"index\": 7, \"variable\": 11, \"value\": 9.0}, {\"index\": 8, \"variable\": 11, \"value\": 15.0}, {\"index\": 9, \"variable\": 11, \"value\": 19.0}, {\"index\": 10, \"variable\": 11, \"value\": 20.0}, {\"index\": 11, \"variable\": 11, \"value\": 21.0}, {\"index\": 12, \"variable\": 11, \"value\": 20.0}, {\"index\": 13, \"variable\": 11, \"value\": 21.0}, {\"index\": 14, \"variable\": 11, \"value\": 23.0}, {\"index\": 15, \"variable\": 11, \"value\": 29.0}, {\"index\": 16, \"variable\": 11, \"value\": 25.0}, {\"index\": 17, \"variable\": 11, \"value\": 24.5}, {\"index\": 18, \"variable\": 11, \"value\": 25.5}, {\"index\": 19, \"variable\": 11, \"value\": 27.5}, {\"index\": 20, \"variable\": 11, \"value\": 25.5}, {\"index\": 21, \"variable\": 11, \"value\": 26.5}, {\"index\": 22, \"variable\": 11, \"value\": 25.5}, {\"index\": 23, \"variable\": 11, \"value\": 24.5}, {\"index\": 24, \"variable\": 11, \"value\": 25.5}, {\"index\": 25, \"variable\": 11, \"value\": 26.5}, {\"index\": 26, \"variable\": 11, \"value\": 28.5}, {\"index\": 27, \"variable\": 11, \"value\": 30.5}, {\"index\": 28, \"variable\": 11, \"value\": 28.5}, {\"index\": 29, \"variable\": 11, \"value\": 29.5}, {\"index\": 30, \"variable\": 11, \"value\": 29.0}, {\"index\": 31, \"variable\": 11, \"value\": 29.0}, {\"index\": 32, \"variable\": 11, \"value\": 29.0}, {\"index\": 33, \"variable\": 11, \"value\": 30.0}, {\"index\": 34, \"variable\": 11, \"value\": 29.0}, {\"index\": 35, \"variable\": 11, \"value\": 28.0}, {\"index\": 36, \"variable\": 11, \"value\": 27.0}, {\"index\": 37, \"variable\": 11, \"value\": 27.0}, {\"index\": 38, \"variable\": 11, \"value\": 28.0}, {\"index\": 39, \"variable\": 11, \"value\": 27.0}, {\"index\": 40, \"variable\": 11, \"value\": 26.0}, {\"index\": 41, \"variable\": 11, \"value\": 25.5}, {\"index\": 42, \"variable\": 11, \"value\": 24.5}, {\"index\": 43, \"variable\": 11, \"value\": 25.5}, {\"index\": 44, \"variable\": 11, \"value\": 25.0}, {\"index\": 45, \"variable\": 11, \"value\": 26.0}, {\"index\": 46, \"variable\": 11, \"value\": 25.0}, {\"index\": 47, \"variable\": 11, \"value\": 24.0}, {\"index\": 48, \"variable\": 11, \"value\": 25.0}, {\"index\": 49, \"variable\": 11, \"value\": 24.0}, {\"index\": 50, \"variable\": 11, \"value\": 23.0}, {\"index\": 51, \"variable\": 11, \"value\": 22.5}, {\"index\": 52, \"variable\": 11, \"value\": 23.5}, {\"index\": 53, \"variable\": 11, \"value\": 25.5}, {\"index\": 54, \"variable\": 11, \"value\": 26.5}, {\"index\": 55, \"variable\": 11, \"value\": 24.5}, {\"index\": 56, \"variable\": 11, \"value\": 23.5}, {\"index\": 57, \"variable\": 11, \"value\": 22.5}, {\"index\": 58, \"variable\": 11, \"value\": 23.5}, {\"index\": 59, \"variable\": 11, \"value\": 24.5}, {\"index\": 60, \"variable\": 11, \"value\": 23.5}, {\"index\": 61, \"variable\": 11, \"value\": 22.5}, {\"index\": 62, \"variable\": 11, \"value\": 23.5}, {\"index\": 63, \"variable\": 11, \"value\": 24.5}, {\"index\": 64, \"variable\": 11, \"value\": 25.5}, {\"index\": 65, \"variable\": 11, \"value\": 23.5}, {\"index\": 66, \"variable\": 11, \"value\": 24.5}, {\"index\": 67, \"variable\": 11, \"value\": 23.5}, {\"index\": 68, \"variable\": 11, \"value\": 22.5}, {\"index\": 69, \"variable\": 11, \"value\": 23.5}, {\"index\": 70, \"variable\": 11, \"value\": 22.5}, {\"index\": 71, \"variable\": 11, \"value\": 23.5}, {\"index\": 72, \"variable\": 11, \"value\": 22.5}, {\"index\": 73, \"variable\": 11, \"value\": 20.5}, {\"index\": 74, \"variable\": 11, \"value\": 14.5}, {\"index\": 75, \"variable\": 11, \"value\": 6.5}, {\"index\": 76, \"variable\": 11, \"value\": 5.5}, {\"index\": 77, \"variable\": 11, \"value\": 5.5}, {\"index\": 78, \"variable\": 11, \"value\": 1.5}, {\"index\": 79, \"variable\": 11, \"value\": -6.5}, {\"index\": 80, \"variable\": 11, \"value\": -14.5}, {\"index\": 81, \"variable\": 11, \"value\": -22.5}, {\"index\": 82, \"variable\": 11, \"value\": -24.5}, {\"index\": 83, \"variable\": 11, \"value\": -25.5}, {\"index\": 84, \"variable\": 11, \"value\": -26.5}, {\"index\": 85, \"variable\": 11, \"value\": -24.5}, {\"index\": 86, \"variable\": 11, \"value\": -25.5}, {\"index\": 87, \"variable\": 11, \"value\": -27.5}, {\"index\": 88, \"variable\": 11, \"value\": -43.5}, {\"index\": 89, \"variable\": 11, \"value\": -35.5}, {\"index\": 90, \"variable\": 11, \"value\": -27.5}, {\"index\": 91, \"variable\": 11, \"value\": -19.5}, {\"index\": 92, \"variable\": 11, \"value\": -27.5}, {\"index\": 93, \"variable\": 11, \"value\": -35.5}, {\"index\": 94, \"variable\": 11, \"value\": -19.5}, {\"index\": 95, \"variable\": 11, \"value\": -19.5}, {\"index\": 96, \"variable\": 11, \"value\": -20.5}, {\"index\": 97, \"variable\": 11, \"value\": -20.5}, {\"index\": 98, \"variable\": 11, \"value\": -21.5}, {\"index\": 99, \"variable\": 11, \"value\": -20.5}, {\"index\": 0, \"variable\": 12, \"value\": 20.0}, {\"index\": 1, \"variable\": 12, \"value\": 19.0}, {\"index\": 2, \"variable\": 12, \"value\": 21.0}, {\"index\": 3, \"variable\": 12, \"value\": 20.0}, {\"index\": 4, \"variable\": 12, \"value\": 19.0}, {\"index\": 5, \"variable\": 12, \"value\": 17.0}, {\"index\": 6, \"variable\": 12, \"value\": 18.0}, {\"index\": 7, \"variable\": 12, \"value\": 19.0}, {\"index\": 8, \"variable\": 12, \"value\": 20.0}, {\"index\": 9, \"variable\": 12, \"value\": 19.0}, {\"index\": 10, \"variable\": 12, \"value\": 20.0}, {\"index\": 11, \"variable\": 12, \"value\": 19.5}, {\"index\": 12, \"variable\": 12, \"value\": 18.5}, {\"index\": 13, \"variable\": 12, \"value\": 19.5}, {\"index\": 14, \"variable\": 12, \"value\": 20.5}, {\"index\": 15, \"variable\": 12, \"value\": 19.5}, {\"index\": 16, \"variable\": 12, \"value\": 21.5}, {\"index\": 17, \"variable\": 12, \"value\": 20.5}, {\"index\": 18, \"variable\": 12, \"value\": 21.5}, {\"index\": 19, \"variable\": 12, \"value\": 21.5}, {\"index\": 20, \"variable\": 12, \"value\": 19.5}, {\"index\": 21, \"variable\": 12, \"value\": 19.0}, {\"index\": 22, \"variable\": 12, \"value\": 18.0}, {\"index\": 23, \"variable\": 12, \"value\": 17.0}, {\"index\": 24, \"variable\": 12, \"value\": 18.0}, {\"index\": 25, \"variable\": 12, \"value\": 17.5}, {\"index\": 26, \"variable\": 12, \"value\": 17.5}, {\"index\": 27, \"variable\": 12, \"value\": 18.5}, {\"index\": 28, \"variable\": 12, \"value\": 17.5}, {\"index\": 29, \"variable\": 12, \"value\": 18.5}, {\"index\": 30, \"variable\": 12, \"value\": 18.5}, {\"index\": 31, \"variable\": 12, \"value\": 19.5}, {\"index\": 32, \"variable\": 12, \"value\": 20.5}, {\"index\": 33, \"variable\": 12, \"value\": 18.5}, {\"index\": 34, \"variable\": 12, \"value\": 19.5}, {\"index\": 35, \"variable\": 12, \"value\": 18.5}, {\"index\": 36, \"variable\": 12, \"value\": 17.5}, {\"index\": 37, \"variable\": 12, \"value\": 16.5}, {\"index\": 38, \"variable\": 12, \"value\": 17.5}, {\"index\": 39, \"variable\": 12, \"value\": 19.5}, {\"index\": 40, \"variable\": 12, \"value\": 19.5}, {\"index\": 41, \"variable\": 12, \"value\": 23.5}, {\"index\": 42, \"variable\": 12, \"value\": 15.5}, {\"index\": 43, \"variable\": 12, \"value\": 7.5}, {\"index\": 44, \"variable\": 12, \"value\": 15.5}, {\"index\": 45, \"variable\": 12, \"value\": 11.5}, {\"index\": 46, \"variable\": 12, \"value\": 19.5}, {\"index\": 47, \"variable\": 12, \"value\": 25.5}, {\"index\": 48, \"variable\": 12, \"value\": 21.5}, {\"index\": 49, \"variable\": 12, \"value\": 29.5}, {\"index\": 50, \"variable\": 12, \"value\": 41.5}, {\"index\": 51, \"variable\": 12, \"value\": 42.5}, {\"index\": 52, \"variable\": 12, \"value\": 40.5}, {\"index\": 53, \"variable\": 12, \"value\": 38.5}, {\"index\": 54, \"variable\": 12, \"value\": 38.5}, {\"index\": 55, \"variable\": 12, \"value\": 39.5}, {\"index\": 56, \"variable\": 12, \"value\": 38.5}, {\"index\": 57, \"variable\": 12, \"value\": 46.5}, {\"index\": 58, \"variable\": 12, \"value\": 54.5}, {\"index\": 59, \"variable\": 12, \"value\": 62.5}, {\"index\": 60, \"variable\": 12, \"value\": 61.5}, {\"index\": 61, \"variable\": 12, \"value\": 60.5}, {\"index\": 62, \"variable\": 12, \"value\": 62.5}, {\"index\": 63, \"variable\": 12, \"value\": 60.5}, {\"index\": 64, \"variable\": 12, \"value\": 59.5}, {\"index\": 65, \"variable\": 12, \"value\": 58.5}, {\"index\": 66, \"variable\": 12, \"value\": 64.5}, {\"index\": 67, \"variable\": 12, \"value\": 63.5}, {\"index\": 68, \"variable\": 12, \"value\": 64.5}, {\"index\": 69, \"variable\": 12, \"value\": 64.5}, {\"index\": 70, \"variable\": 12, \"value\": 65.5}, {\"index\": 71, \"variable\": 12, \"value\": 66.5}, {\"index\": 72, \"variable\": 12, \"value\": 66.5}, {\"index\": 73, \"variable\": 12, \"value\": 68.5}, {\"index\": 74, \"variable\": 12, \"value\": 69.5}, {\"index\": 75, \"variable\": 12, \"value\": 70.5}, {\"index\": 76, \"variable\": 12, \"value\": 69.5}, {\"index\": 77, \"variable\": 12, \"value\": 68.5}, {\"index\": 78, \"variable\": 12, \"value\": 62.5}, {\"index\": 79, \"variable\": 12, \"value\": 61.5}, {\"index\": 80, \"variable\": 12, \"value\": 62.5}, {\"index\": 81, \"variable\": 12, \"value\": 63.5}, {\"index\": 82, \"variable\": 12, \"value\": 64.5}, {\"index\": 83, \"variable\": 12, \"value\": 63.5}, {\"index\": 84, \"variable\": 12, \"value\": 62.5}, {\"index\": 85, \"variable\": 12, \"value\": 63.5}, {\"index\": 86, \"variable\": 12, \"value\": 62.5}, {\"index\": 87, \"variable\": 12, \"value\": 61.5}, {\"index\": 88, \"variable\": 12, \"value\": 61.5}, {\"index\": 89, \"variable\": 12, \"value\": 60.5}, {\"index\": 90, \"variable\": 12, \"value\": 59.5}, {\"index\": 91, \"variable\": 12, \"value\": 58.5}, {\"index\": 92, \"variable\": 12, \"value\": 54.5}, {\"index\": 93, \"variable\": 12, \"value\": 56.5}, {\"index\": 94, \"variable\": 12, \"value\": 56.5}, {\"index\": 95, \"variable\": 12, \"value\": 57.5}, {\"index\": 96, \"variable\": 12, \"value\": 58.5}, {\"index\": 97, \"variable\": 12, \"value\": 57.5}, {\"index\": 98, \"variable\": 12, \"value\": 58.5}, {\"index\": 99, \"variable\": 12, \"value\": 59.5}, {\"index\": 0, \"variable\": 13, \"value\": 21.0}, {\"index\": 1, \"variable\": 13, \"value\": 22.0}, {\"index\": 2, \"variable\": 13, \"value\": 21.0}, {\"index\": 3, \"variable\": 13, \"value\": 21.0}, {\"index\": 4, \"variable\": 13, \"value\": 20.0}, {\"index\": 5, \"variable\": 13, \"value\": 22.0}, {\"index\": 6, \"variable\": 13, \"value\": 21.0}, {\"index\": 7, \"variable\": 13, \"value\": 21.0}, {\"index\": 8, \"variable\": 13, \"value\": 22.0}, {\"index\": 9, \"variable\": 13, \"value\": 23.0}, {\"index\": 10, \"variable\": 13, \"value\": 22.0}, {\"index\": 11, \"variable\": 13, \"value\": 23.0}, {\"index\": 12, \"variable\": 13, \"value\": 22.5}, {\"index\": 13, \"variable\": 13, \"value\": 23.5}, {\"index\": 14, \"variable\": 13, \"value\": 19.5}, {\"index\": 15, \"variable\": 13, \"value\": 27.5}, {\"index\": 16, \"variable\": 13, \"value\": 43.5}, {\"index\": 17, \"variable\": 13, \"value\": 27.5}, {\"index\": 18, \"variable\": 13, \"value\": 19.5}, {\"index\": 19, \"variable\": 13, \"value\": 18.5}, {\"index\": 20, \"variable\": 13, \"value\": 20.5}, {\"index\": 21, \"variable\": 13, \"value\": 21.5}, {\"index\": 22, \"variable\": 13, \"value\": 20.5}, {\"index\": 23, \"variable\": 13, \"value\": 21.5}, {\"index\": 24, \"variable\": 13, \"value\": 20.5}, {\"index\": 25, \"variable\": 13, \"value\": 21.5}, {\"index\": 26, \"variable\": 13, \"value\": 20.5}, {\"index\": 27, \"variable\": 13, \"value\": 21.5}, {\"index\": 28, \"variable\": 13, \"value\": 22.5}, {\"index\": 29, \"variable\": 13, \"value\": 21.5}, {\"index\": 30, \"variable\": 13, \"value\": 33.5}, {\"index\": 31, \"variable\": 13, \"value\": 41.5}, {\"index\": 32, \"variable\": 13, \"value\": 41.5}, {\"index\": 33, \"variable\": 13, \"value\": 49.5}, {\"index\": 34, \"variable\": 13, \"value\": 57.5}, {\"index\": 35, \"variable\": 13, \"value\": 65.5}, {\"index\": 36, \"variable\": 13, \"value\": 77.5}, {\"index\": 37, \"variable\": 13, \"value\": 77.5}, {\"index\": 38, \"variable\": 13, \"value\": 78.5}, {\"index\": 39, \"variable\": 13, \"value\": 76.5}, {\"index\": 40, \"variable\": 13, \"value\": 84.5}, {\"index\": 41, \"variable\": 13, \"value\": 88.5}, {\"index\": 42, \"variable\": 13, \"value\": 86.5}, {\"index\": 43, \"variable\": 13, \"value\": 90.5}, {\"index\": 44, \"variable\": 13, \"value\": 91.5}, {\"index\": 45, \"variable\": 13, \"value\": 95.5}, {\"index\": 46, \"variable\": 13, \"value\": 93.5}, {\"index\": 47, \"variable\": 13, \"value\": 92.5}, {\"index\": 48, \"variable\": 13, \"value\": 93.5}, {\"index\": 49, \"variable\": 13, \"value\": 94.5}, {\"index\": 50, \"variable\": 13, \"value\": 95.5}, {\"index\": 51, \"variable\": 13, \"value\": 96.5}, {\"index\": 52, \"variable\": 13, \"value\": 96.0}, {\"index\": 53, \"variable\": 13, \"value\": 95.0}, {\"index\": 54, \"variable\": 13, \"value\": 97.0}, {\"index\": 55, \"variable\": 13, \"value\": 95.0}, {\"index\": 56, \"variable\": 13, \"value\": 99.0}, {\"index\": 57, \"variable\": 13, \"value\": 100.0}, {\"index\": 58, \"variable\": 13, \"value\": 99.0}, {\"index\": 59, \"variable\": 13, \"value\": 100.0}, {\"index\": 60, \"variable\": 13, \"value\": 99.0}, {\"index\": 61, \"variable\": 13, \"value\": 100.0}, {\"index\": 62, \"variable\": 13, \"value\": 99.0}, {\"index\": 63, \"variable\": 13, \"value\": 98.0}, {\"index\": 64, \"variable\": 13, \"value\": 99.0}, {\"index\": 65, \"variable\": 13, \"value\": 98.0}, {\"index\": 66, \"variable\": 13, \"value\": 97.5}, {\"index\": 67, \"variable\": 13, \"value\": 98.5}, {\"index\": 68, \"variable\": 13, \"value\": 97.5}, {\"index\": 69, \"variable\": 13, \"value\": 98.5}, {\"index\": 70, \"variable\": 13, \"value\": 99.5}, {\"index\": 71, \"variable\": 13, \"value\": 101.5}, {\"index\": 72, \"variable\": 13, \"value\": 103.5}, {\"index\": 73, \"variable\": 13, \"value\": 103.5}, {\"index\": 74, \"variable\": 13, \"value\": 102.5}, {\"index\": 75, \"variable\": 13, \"value\": 100.5}, {\"index\": 76, \"variable\": 13, \"value\": 101.5}, {\"index\": 77, \"variable\": 13, \"value\": 101.0}, {\"index\": 78, \"variable\": 13, \"value\": 99.0}, {\"index\": 79, \"variable\": 13, \"value\": 100.0}, {\"index\": 80, \"variable\": 13, \"value\": 99.0}, {\"index\": 81, \"variable\": 13, \"value\": 100.0}, {\"index\": 82, \"variable\": 13, \"value\": 99.0}, {\"index\": 83, \"variable\": 13, \"value\": 107.0}, {\"index\": 84, \"variable\": 13, \"value\": 111.0}, {\"index\": 85, \"variable\": 13, \"value\": 109.0}, {\"index\": 86, \"variable\": 13, \"value\": 113.0}, {\"index\": 87, \"variable\": 13, \"value\": 111.0}, {\"index\": 88, \"variable\": 13, \"value\": 110.0}, {\"index\": 89, \"variable\": 13, \"value\": 111.0}, {\"index\": 90, \"variable\": 13, \"value\": 110.0}, {\"index\": 91, \"variable\": 13, \"value\": 109.0}, {\"index\": 92, \"variable\": 13, \"value\": 108.0}, {\"index\": 93, \"variable\": 13, \"value\": 107.0}, {\"index\": 94, \"variable\": 13, \"value\": 108.0}, {\"index\": 95, \"variable\": 13, \"value\": 107.0}, {\"index\": 96, \"variable\": 13, \"value\": 108.0}, {\"index\": 97, \"variable\": 13, \"value\": 109.0}, {\"index\": 98, \"variable\": 13, \"value\": 108.0}, {\"index\": 99, \"variable\": 13, \"value\": 106.0}, {\"index\": 0, \"variable\": 14, \"value\": 19.0}, {\"index\": 1, \"variable\": 14, \"value\": 20.0}, {\"index\": 2, \"variable\": 14, \"value\": 21.0}, {\"index\": 3, \"variable\": 14, \"value\": 20.5}, {\"index\": 4, \"variable\": 14, \"value\": 21.5}, {\"index\": 5, \"variable\": 14, \"value\": 20.5}, {\"index\": 6, \"variable\": 14, \"value\": 20.0}, {\"index\": 7, \"variable\": 14, \"value\": 21.0}, {\"index\": 8, \"variable\": 14, \"value\": 20.0}, {\"index\": 9, \"variable\": 14, \"value\": 19.0}, {\"index\": 10, \"variable\": 14, \"value\": 18.0}, {\"index\": 11, \"variable\": 14, \"value\": 19.0}, {\"index\": 12, \"variable\": 14, \"value\": 20.0}, {\"index\": 13, \"variable\": 14, \"value\": 18.0}, {\"index\": 14, \"variable\": 14, \"value\": 16.0}, {\"index\": 15, \"variable\": 14, \"value\": 17.0}, {\"index\": 16, \"variable\": 14, \"value\": 18.0}, {\"index\": 17, \"variable\": 14, \"value\": 17.0}, {\"index\": 18, \"variable\": 14, \"value\": 16.0}, {\"index\": 19, \"variable\": 14, \"value\": 18.0}, {\"index\": 20, \"variable\": 14, \"value\": 17.0}, {\"index\": 21, \"variable\": 14, \"value\": 18.0}, {\"index\": 22, \"variable\": 14, \"value\": 16.0}, {\"index\": 23, \"variable\": 14, \"value\": 15.0}, {\"index\": 24, \"variable\": 14, \"value\": 15.0}, {\"index\": 25, \"variable\": 14, \"value\": 16.0}, {\"index\": 26, \"variable\": 14, \"value\": 17.0}, {\"index\": 27, \"variable\": 14, \"value\": 16.0}, {\"index\": 28, \"variable\": 14, \"value\": 16.0}, {\"index\": 29, \"variable\": 14, \"value\": 16.0}, {\"index\": 30, \"variable\": 14, \"value\": 16.0}, {\"index\": 31, \"variable\": 14, \"value\": 15.0}, {\"index\": 32, \"variable\": 14, \"value\": 16.0}, {\"index\": 33, \"variable\": 14, \"value\": 18.0}, {\"index\": 34, \"variable\": 14, \"value\": 16.0}, {\"index\": 35, \"variable\": 14, \"value\": 24.0}, {\"index\": 36, \"variable\": 14, \"value\": 16.0}, {\"index\": 37, \"variable\": 14, \"value\": 4.0}, {\"index\": 38, \"variable\": 14, \"value\": -4.0}, {\"index\": 39, \"variable\": 14, \"value\": -20.0}, {\"index\": 40, \"variable\": 14, \"value\": -21.0}, {\"index\": 41, \"variable\": 14, \"value\": -21.5}, {\"index\": 42, \"variable\": 14, \"value\": -20.5}, {\"index\": 43, \"variable\": 14, \"value\": -21.5}, {\"index\": 44, \"variable\": 14, \"value\": -20.5}, {\"index\": 45, \"variable\": 14, \"value\": -18.5}, {\"index\": 46, \"variable\": 14, \"value\": -19.5}, {\"index\": 47, \"variable\": 14, \"value\": -21.5}, {\"index\": 48, \"variable\": 14, \"value\": -22.0}, {\"index\": 49, \"variable\": 14, \"value\": -21.0}, {\"index\": 50, \"variable\": 14, \"value\": -22.0}, {\"index\": 51, \"variable\": 14, \"value\": -21.0}, {\"index\": 52, \"variable\": 14, \"value\": -20.0}, {\"index\": 53, \"variable\": 14, \"value\": -21.0}, {\"index\": 54, \"variable\": 14, \"value\": -20.0}, {\"index\": 55, \"variable\": 14, \"value\": -19.0}, {\"index\": 56, \"variable\": 14, \"value\": -18.0}, {\"index\": 57, \"variable\": 14, \"value\": -17.0}, {\"index\": 58, \"variable\": 14, \"value\": -18.0}, {\"index\": 59, \"variable\": 14, \"value\": -17.0}, {\"index\": 60, \"variable\": 14, \"value\": -15.0}, {\"index\": 61, \"variable\": 14, \"value\": -14.0}, {\"index\": 62, \"variable\": 14, \"value\": -15.0}, {\"index\": 63, \"variable\": 14, \"value\": -16.0}, {\"index\": 64, \"variable\": 14, \"value\": -17.0}, {\"index\": 65, \"variable\": 14, \"value\": -16.0}, {\"index\": 66, \"variable\": 14, \"value\": -17.0}, {\"index\": 67, \"variable\": 14, \"value\": -18.0}, {\"index\": 68, \"variable\": 14, \"value\": -19.0}, {\"index\": 69, \"variable\": 14, \"value\": -18.0}, {\"index\": 70, \"variable\": 14, \"value\": -17.0}, {\"index\": 71, \"variable\": 14, \"value\": -18.0}, {\"index\": 72, \"variable\": 14, \"value\": -19.0}, {\"index\": 73, \"variable\": 14, \"value\": -17.0}, {\"index\": 74, \"variable\": 14, \"value\": -23.0}, {\"index\": 75, \"variable\": 14, \"value\": -22.0}, {\"index\": 76, \"variable\": 14, \"value\": -24.0}, {\"index\": 77, \"variable\": 14, \"value\": -25.0}, {\"index\": 78, \"variable\": 14, \"value\": -27.0}, {\"index\": 79, \"variable\": 14, \"value\": -26.0}, {\"index\": 80, \"variable\": 14, \"value\": -27.0}, {\"index\": 81, \"variable\": 14, \"value\": -25.0}, {\"index\": 82, \"variable\": 14, \"value\": -25.0}, {\"index\": 83, \"variable\": 14, \"value\": -26.0}, {\"index\": 84, \"variable\": 14, \"value\": -25.0}, {\"index\": 85, \"variable\": 14, \"value\": -26.0}, {\"index\": 86, \"variable\": 14, \"value\": -27.0}, {\"index\": 87, \"variable\": 14, \"value\": -25.0}, {\"index\": 88, \"variable\": 14, \"value\": -25.0}, {\"index\": 89, \"variable\": 14, \"value\": -25.5}, {\"index\": 90, \"variable\": 14, \"value\": -26.5}, {\"index\": 91, \"variable\": 14, \"value\": -27.5}, {\"index\": 92, \"variable\": 14, \"value\": -26.5}, {\"index\": 93, \"variable\": 14, \"value\": -27.0}, {\"index\": 94, \"variable\": 14, \"value\": -25.0}, {\"index\": 95, \"variable\": 14, \"value\": -25.5}, {\"index\": 96, \"variable\": 14, \"value\": -26.5}, {\"index\": 97, \"variable\": 14, \"value\": -28.5}, {\"index\": 98, \"variable\": 14, \"value\": -29.5}, {\"index\": 99, \"variable\": 14, \"value\": -28.5}, {\"index\": 0, \"variable\": 15, \"value\": 21.0}, {\"index\": 1, \"variable\": 15, \"value\": 22.0}, {\"index\": 2, \"variable\": 15, \"value\": 21.0}, {\"index\": 3, \"variable\": 15, \"value\": 19.0}, {\"index\": 4, \"variable\": 15, \"value\": 23.0}, {\"index\": 5, \"variable\": 15, \"value\": 15.0}, {\"index\": 6, \"variable\": 15, \"value\": 23.0}, {\"index\": 7, \"variable\": 15, \"value\": 23.0}, {\"index\": 8, \"variable\": 15, \"value\": 19.0}, {\"index\": 9, \"variable\": 15, \"value\": 11.0}, {\"index\": 10, \"variable\": 15, \"value\": 10.5}, {\"index\": 11, \"variable\": 15, \"value\": 11.5}, {\"index\": 12, \"variable\": 15, \"value\": 10.5}, {\"index\": 13, \"variable\": 15, \"value\": 22.5}, {\"index\": 14, \"variable\": 15, \"value\": 18.5}, {\"index\": 15, \"variable\": 15, \"value\": 26.5}, {\"index\": 16, \"variable\": 15, \"value\": 18.5}, {\"index\": 17, \"variable\": 15, \"value\": 24.5}, {\"index\": 18, \"variable\": 15, \"value\": 26.5}, {\"index\": 19, \"variable\": 15, \"value\": 27.5}, {\"index\": 20, \"variable\": 15, \"value\": 28.5}, {\"index\": 21, \"variable\": 15, \"value\": 27.5}, {\"index\": 22, \"variable\": 15, \"value\": 28.5}, {\"index\": 23, \"variable\": 15, \"value\": 26.5}, {\"index\": 24, \"variable\": 15, \"value\": 28.5}, {\"index\": 25, \"variable\": 15, \"value\": 29.5}, {\"index\": 26, \"variable\": 15, \"value\": 29.0}, {\"index\": 27, \"variable\": 15, \"value\": 30.0}, {\"index\": 28, \"variable\": 15, \"value\": 29.5}, {\"index\": 29, \"variable\": 15, \"value\": 28.5}, {\"index\": 30, \"variable\": 15, \"value\": 27.5}, {\"index\": 31, \"variable\": 15, \"value\": 26.5}, {\"index\": 32, \"variable\": 15, \"value\": 25.5}, {\"index\": 33, \"variable\": 15, \"value\": 26.5}, {\"index\": 34, \"variable\": 15, \"value\": 24.5}, {\"index\": 35, \"variable\": 15, \"value\": 30.5}, {\"index\": 36, \"variable\": 15, \"value\": 26.5}, {\"index\": 37, \"variable\": 15, \"value\": 25.5}, {\"index\": 38, \"variable\": 15, \"value\": 24.5}, {\"index\": 39, \"variable\": 15, \"value\": 23.5}, {\"index\": 40, \"variable\": 15, \"value\": 24.5}, {\"index\": 41, \"variable\": 15, \"value\": 24.0}, {\"index\": 42, \"variable\": 15, \"value\": 22.0}, {\"index\": 43, \"variable\": 15, \"value\": 21.0}, {\"index\": 44, \"variable\": 15, \"value\": 20.0}, {\"index\": 45, \"variable\": 15, \"value\": 19.0}, {\"index\": 46, \"variable\": 15, \"value\": 18.0}, {\"index\": 47, \"variable\": 15, \"value\": 17.5}, {\"index\": 48, \"variable\": 15, \"value\": 18.5}, {\"index\": 49, \"variable\": 15, \"value\": 20.5}, {\"index\": 50, \"variable\": 15, \"value\": 19.5}, {\"index\": 51, \"variable\": 15, \"value\": 19.5}, {\"index\": 52, \"variable\": 15, \"value\": 20.5}, {\"index\": 53, \"variable\": 15, \"value\": 19.5}, {\"index\": 54, \"variable\": 15, \"value\": 21.5}, {\"index\": 55, \"variable\": 15, \"value\": 20.5}, {\"index\": 56, \"variable\": 15, \"value\": 19.5}, {\"index\": 57, \"variable\": 15, \"value\": 18.5}, {\"index\": 58, \"variable\": 15, \"value\": 19.5}, {\"index\": 59, \"variable\": 15, \"value\": 17.5}, {\"index\": 60, \"variable\": 15, \"value\": 16.5}, {\"index\": 61, \"variable\": 15, \"value\": 17.5}, {\"index\": 62, \"variable\": 15, \"value\": 18.5}, {\"index\": 63, \"variable\": 15, \"value\": 19.5}, {\"index\": 64, \"variable\": 15, \"value\": 17.5}, {\"index\": 65, \"variable\": 15, \"value\": 29.5}, {\"index\": 66, \"variable\": 15, \"value\": 37.5}, {\"index\": 67, \"variable\": 15, \"value\": 29.5}, {\"index\": 68, \"variable\": 15, \"value\": 21.5}, {\"index\": 69, \"variable\": 15, \"value\": 17.5}, {\"index\": 70, \"variable\": 15, \"value\": 13.5}, {\"index\": 71, \"variable\": 15, \"value\": 13.0}, {\"index\": 72, \"variable\": 15, \"value\": 12.0}, {\"index\": 73, \"variable\": 15, \"value\": 13.0}, {\"index\": 74, \"variable\": 15, \"value\": 15.0}, {\"index\": 75, \"variable\": 15, \"value\": 13.0}, {\"index\": 76, \"variable\": 15, \"value\": 17.0}, {\"index\": 77, \"variable\": 15, \"value\": 21.0}, {\"index\": 78, \"variable\": 15, \"value\": 33.0}, {\"index\": 79, \"variable\": 15, \"value\": 29.0}, {\"index\": 80, \"variable\": 15, \"value\": 37.0}, {\"index\": 81, \"variable\": 15, \"value\": 43.0}, {\"index\": 82, \"variable\": 15, \"value\": 43.0}, {\"index\": 83, \"variable\": 15, \"value\": 44.0}, {\"index\": 84, \"variable\": 15, \"value\": 44.0}, {\"index\": 85, \"variable\": 15, \"value\": 48.0}, {\"index\": 86, \"variable\": 15, \"value\": 50.0}, {\"index\": 87, \"variable\": 15, \"value\": 49.0}, {\"index\": 88, \"variable\": 15, \"value\": 48.0}, {\"index\": 89, \"variable\": 15, \"value\": 50.0}, {\"index\": 90, \"variable\": 15, \"value\": 51.0}, {\"index\": 91, \"variable\": 15, \"value\": 52.0}, {\"index\": 92, \"variable\": 15, \"value\": 50.0}, {\"index\": 93, \"variable\": 15, \"value\": 49.0}, {\"index\": 94, \"variable\": 15, \"value\": 48.0}, {\"index\": 95, \"variable\": 15, \"value\": 48.0}, {\"index\": 96, \"variable\": 15, \"value\": 49.0}, {\"index\": 97, \"variable\": 15, \"value\": 48.0}, {\"index\": 98, \"variable\": 15, \"value\": 49.0}, {\"index\": 99, \"variable\": 15, \"value\": 50.0}, {\"index\": 0, \"variable\": 16, \"value\": 19.0}, {\"index\": 1, \"variable\": 16, \"value\": 20.0}, {\"index\": 2, \"variable\": 16, \"value\": 20.0}, {\"index\": 3, \"variable\": 16, \"value\": 22.0}, {\"index\": 4, \"variable\": 16, \"value\": 21.0}, {\"index\": 5, \"variable\": 16, \"value\": 25.0}, {\"index\": 6, \"variable\": 16, \"value\": 29.0}, {\"index\": 7, \"variable\": 16, \"value\": 25.0}, {\"index\": 8, \"variable\": 16, \"value\": 31.0}, {\"index\": 9, \"variable\": 16, \"value\": 27.0}, {\"index\": 10, \"variable\": 16, \"value\": 35.0}, {\"index\": 11, \"variable\": 16, \"value\": 34.0}, {\"index\": 12, \"variable\": 16, \"value\": 38.0}, {\"index\": 13, \"variable\": 16, \"value\": 37.0}, {\"index\": 14, \"variable\": 16, \"value\": 37.0}, {\"index\": 15, \"variable\": 16, \"value\": 38.0}, {\"index\": 16, \"variable\": 16, \"value\": 39.0}, {\"index\": 17, \"variable\": 16, \"value\": 41.0}, {\"index\": 18, \"variable\": 16, \"value\": 42.0}, {\"index\": 19, \"variable\": 16, \"value\": 41.0}, {\"index\": 20, \"variable\": 16, \"value\": 40.0}, {\"index\": 21, \"variable\": 16, \"value\": 39.0}, {\"index\": 22, \"variable\": 16, \"value\": 38.5}, {\"index\": 23, \"variable\": 16, \"value\": 39.5}, {\"index\": 24, \"variable\": 16, \"value\": 40.5}, {\"index\": 25, \"variable\": 16, \"value\": 40.5}, {\"index\": 26, \"variable\": 16, \"value\": 39.5}, {\"index\": 27, \"variable\": 16, \"value\": 38.5}, {\"index\": 28, \"variable\": 16, \"value\": 37.5}, {\"index\": 29, \"variable\": 16, \"value\": 41.5}, {\"index\": 30, \"variable\": 16, \"value\": 40.5}, {\"index\": 31, \"variable\": 16, \"value\": 39.5}, {\"index\": 32, \"variable\": 16, \"value\": 40.5}, {\"index\": 33, \"variable\": 16, \"value\": 39.5}, {\"index\": 34, \"variable\": 16, \"value\": 40.5}, {\"index\": 35, \"variable\": 16, \"value\": 40.0}, {\"index\": 36, \"variable\": 16, \"value\": 39.0}, {\"index\": 37, \"variable\": 16, \"value\": 38.0}, {\"index\": 38, \"variable\": 16, \"value\": 37.5}, {\"index\": 39, \"variable\": 16, \"value\": 35.5}, {\"index\": 40, \"variable\": 16, \"value\": 36.5}, {\"index\": 41, \"variable\": 16, \"value\": 37.5}, {\"index\": 42, \"variable\": 16, \"value\": 36.5}, {\"index\": 43, \"variable\": 16, \"value\": 34.5}, {\"index\": 44, \"variable\": 16, \"value\": 36.5}, {\"index\": 45, \"variable\": 16, \"value\": 35.5}, {\"index\": 46, \"variable\": 16, \"value\": 34.5}, {\"index\": 47, \"variable\": 16, \"value\": 33.5}, {\"index\": 48, \"variable\": 16, \"value\": 32.5}, {\"index\": 49, \"variable\": 16, \"value\": 31.5}, {\"index\": 50, \"variable\": 16, \"value\": 32.5}, {\"index\": 51, \"variable\": 16, \"value\": 31.5}, {\"index\": 52, \"variable\": 16, \"value\": 31.5}, {\"index\": 53, \"variable\": 16, \"value\": 29.5}, {\"index\": 54, \"variable\": 16, \"value\": 30.5}, {\"index\": 55, \"variable\": 16, \"value\": 31.5}, {\"index\": 56, \"variable\": 16, \"value\": 32.5}, {\"index\": 57, \"variable\": 16, \"value\": 33.5}, {\"index\": 58, \"variable\": 16, \"value\": 32.5}, {\"index\": 59, \"variable\": 16, \"value\": 33.5}, {\"index\": 60, \"variable\": 16, \"value\": 32.5}, {\"index\": 61, \"variable\": 16, \"value\": 33.5}, {\"index\": 62, \"variable\": 16, \"value\": 32.5}, {\"index\": 63, \"variable\": 16, \"value\": 30.5}, {\"index\": 64, \"variable\": 16, \"value\": 24.5}, {\"index\": 65, \"variable\": 16, \"value\": 22.5}, {\"index\": 66, \"variable\": 16, \"value\": 14.5}, {\"index\": 67, \"variable\": 16, \"value\": 6.5}, {\"index\": 68, \"variable\": 16, \"value\": 12.5}, {\"index\": 69, \"variable\": 16, \"value\": 16.5}, {\"index\": 70, \"variable\": 16, \"value\": 17.5}, {\"index\": 71, \"variable\": 16, \"value\": 18.5}, {\"index\": 72, \"variable\": 16, \"value\": 17.5}, {\"index\": 73, \"variable\": 16, \"value\": 16.5}, {\"index\": 74, \"variable\": 16, \"value\": 15.5}, {\"index\": 75, \"variable\": 16, \"value\": 7.5}, {\"index\": 76, \"variable\": 16, \"value\": 15.5}, {\"index\": 77, \"variable\": 16, \"value\": 19.5}, {\"index\": 78, \"variable\": 16, \"value\": 15.5}, {\"index\": 79, \"variable\": 16, \"value\": 23.5}, {\"index\": 80, \"variable\": 16, \"value\": 24.5}, {\"index\": 81, \"variable\": 16, \"value\": 28.5}, {\"index\": 82, \"variable\": 16, \"value\": 28.5}, {\"index\": 83, \"variable\": 16, \"value\": 28.5}, {\"index\": 84, \"variable\": 16, \"value\": 27.5}, {\"index\": 85, \"variable\": 16, \"value\": 28.5}, {\"index\": 86, \"variable\": 16, \"value\": 27.5}, {\"index\": 87, \"variable\": 16, \"value\": 28.5}, {\"index\": 88, \"variable\": 16, \"value\": 28.5}, {\"index\": 89, \"variable\": 16, \"value\": 27.5}, {\"index\": 90, \"variable\": 16, \"value\": 26.5}, {\"index\": 91, \"variable\": 16, \"value\": 27.5}, {\"index\": 92, \"variable\": 16, \"value\": 29.5}, {\"index\": 93, \"variable\": 16, \"value\": 35.5}, {\"index\": 94, \"variable\": 16, \"value\": 33.5}, {\"index\": 95, \"variable\": 16, \"value\": 31.5}, {\"index\": 96, \"variable\": 16, \"value\": 35.5}, {\"index\": 97, \"variable\": 16, \"value\": 43.5}, {\"index\": 98, \"variable\": 16, \"value\": 45.5}, {\"index\": 99, \"variable\": 16, \"value\": 45.0}, {\"index\": 0, \"variable\": 17, \"value\": 19.0}, {\"index\": 1, \"variable\": 17, \"value\": 18.0}, {\"index\": 2, \"variable\": 17, \"value\": 17.0}, {\"index\": 3, \"variable\": 17, \"value\": 21.0}, {\"index\": 4, \"variable\": 17, \"value\": 29.0}, {\"index\": 5, \"variable\": 17, \"value\": 21.0}, {\"index\": 6, \"variable\": 17, \"value\": 13.0}, {\"index\": 7, \"variable\": 17, \"value\": 21.0}, {\"index\": 8, \"variable\": 17, \"value\": 15.0}, {\"index\": 9, \"variable\": 17, \"value\": 17.0}, {\"index\": 10, \"variable\": 17, \"value\": 16.0}, {\"index\": 11, \"variable\": 17, \"value\": 15.0}, {\"index\": 12, \"variable\": 17, \"value\": 16.0}, {\"index\": 13, \"variable\": 17, \"value\": 17.0}, {\"index\": 14, \"variable\": 17, \"value\": 18.0}, {\"index\": 15, \"variable\": 17, \"value\": 19.0}, {\"index\": 16, \"variable\": 17, \"value\": 20.0}, {\"index\": 17, \"variable\": 17, \"value\": 19.0}, {\"index\": 18, \"variable\": 17, \"value\": 18.0}, {\"index\": 19, \"variable\": 17, \"value\": 20.0}, {\"index\": 20, \"variable\": 17, \"value\": 19.0}, {\"index\": 21, \"variable\": 17, \"value\": 18.0}, {\"index\": 22, \"variable\": 17, \"value\": 18.0}, {\"index\": 23, \"variable\": 17, \"value\": 18.0}, {\"index\": 24, \"variable\": 17, \"value\": 16.0}, {\"index\": 25, \"variable\": 17, \"value\": 16.0}, {\"index\": 26, \"variable\": 17, \"value\": 17.0}, {\"index\": 27, \"variable\": 17, \"value\": 19.0}, {\"index\": 28, \"variable\": 17, \"value\": 18.0}, {\"index\": 29, \"variable\": 17, \"value\": 18.0}, {\"index\": 30, \"variable\": 17, \"value\": 18.0}, {\"index\": 31, \"variable\": 17, \"value\": 14.0}, {\"index\": 32, \"variable\": 17, \"value\": 12.0}, {\"index\": 33, \"variable\": 17, \"value\": 11.0}, {\"index\": 34, \"variable\": 17, \"value\": 12.0}, {\"index\": 35, \"variable\": 17, \"value\": 11.0}, {\"index\": 36, \"variable\": 17, \"value\": 13.0}, {\"index\": 37, \"variable\": 17, \"value\": 14.0}, {\"index\": 38, \"variable\": 17, \"value\": 15.0}, {\"index\": 39, \"variable\": 17, \"value\": 15.0}, {\"index\": 40, \"variable\": 17, \"value\": 16.0}, {\"index\": 41, \"variable\": 17, \"value\": 17.0}, {\"index\": 42, \"variable\": 17, \"value\": 13.0}, {\"index\": 43, \"variable\": 17, \"value\": 17.0}, {\"index\": 44, \"variable\": 17, \"value\": 21.0}, {\"index\": 45, \"variable\": 17, \"value\": 20.0}, {\"index\": 46, \"variable\": 17, \"value\": 24.0}, {\"index\": 47, \"variable\": 17, \"value\": 21.0}, {\"index\": 48, \"variable\": 17, \"value\": 25.0}, {\"index\": 49, \"variable\": 17, \"value\": 29.0}, {\"index\": 50, \"variable\": 17, \"value\": 30.0}, {\"index\": 51, \"variable\": 17, \"value\": 29.0}, {\"index\": 52, \"variable\": 17, \"value\": 28.0}, {\"index\": 53, \"variable\": 17, \"value\": 34.0}, {\"index\": 54, \"variable\": 17, \"value\": 42.0}, {\"index\": 55, \"variable\": 17, \"value\": 46.0}, {\"index\": 56, \"variable\": 17, \"value\": 48.0}, {\"index\": 57, \"variable\": 17, \"value\": 52.0}, {\"index\": 58, \"variable\": 17, \"value\": 51.0}, {\"index\": 59, \"variable\": 17, \"value\": 52.0}, {\"index\": 60, \"variable\": 17, \"value\": 54.0}, {\"index\": 61, \"variable\": 17, \"value\": 53.0}, {\"index\": 62, \"variable\": 17, \"value\": 54.0}, {\"index\": 63, \"variable\": 17, \"value\": 56.0}, {\"index\": 64, \"variable\": 17, \"value\": 55.0}, {\"index\": 65, \"variable\": 17, \"value\": 47.0}, {\"index\": 66, \"variable\": 17, \"value\": 39.0}, {\"index\": 67, \"variable\": 17, \"value\": 35.0}, {\"index\": 68, \"variable\": 17, \"value\": 32.0}, {\"index\": 69, \"variable\": 17, \"value\": 36.0}, {\"index\": 70, \"variable\": 17, \"value\": 44.0}, {\"index\": 71, \"variable\": 17, \"value\": 43.0}, {\"index\": 72, \"variable\": 17, \"value\": 42.0}, {\"index\": 73, \"variable\": 17, \"value\": 44.0}, {\"index\": 74, \"variable\": 17, \"value\": 42.0}, {\"index\": 75, \"variable\": 17, \"value\": 46.0}, {\"index\": 76, \"variable\": 17, \"value\": 45.0}, {\"index\": 77, \"variable\": 17, \"value\": 49.0}, {\"index\": 78, \"variable\": 17, \"value\": 45.0}, {\"index\": 79, \"variable\": 17, \"value\": 39.0}, {\"index\": 80, \"variable\": 17, \"value\": 23.0}, {\"index\": 81, \"variable\": 17, \"value\": 22.0}, {\"index\": 82, \"variable\": 17, \"value\": 23.0}, {\"index\": 83, \"variable\": 17, \"value\": 24.0}, {\"index\": 84, \"variable\": 17, \"value\": 25.0}, {\"index\": 85, \"variable\": 17, \"value\": 26.0}, {\"index\": 86, \"variable\": 17, \"value\": 27.0}, {\"index\": 87, \"variable\": 17, \"value\": 29.0}, {\"index\": 88, \"variable\": 17, \"value\": 28.0}, {\"index\": 89, \"variable\": 17, \"value\": 29.0}, {\"index\": 90, \"variable\": 17, \"value\": 28.0}, {\"index\": 91, \"variable\": 17, \"value\": 27.0}, {\"index\": 92, \"variable\": 17, \"value\": 27.0}, {\"index\": 93, \"variable\": 17, \"value\": 28.0}, {\"index\": 94, \"variable\": 17, \"value\": 27.0}, {\"index\": 95, \"variable\": 17, \"value\": 28.0}, {\"index\": 96, \"variable\": 17, \"value\": 29.0}, {\"index\": 97, \"variable\": 17, \"value\": 30.0}, {\"index\": 98, \"variable\": 17, \"value\": 31.0}, {\"index\": 99, \"variable\": 17, \"value\": 30.0}, {\"index\": 0, \"variable\": 18, \"value\": 19.0}, {\"index\": 1, \"variable\": 18, \"value\": 23.0}, {\"index\": 2, \"variable\": 18, \"value\": 19.0}, {\"index\": 3, \"variable\": 18, \"value\": 15.0}, {\"index\": 4, \"variable\": 18, \"value\": 13.0}, {\"index\": 5, \"variable\": 18, \"value\": 12.0}, {\"index\": 6, \"variable\": 18, \"value\": 11.0}, {\"index\": 7, \"variable\": 18, \"value\": 12.0}, {\"index\": 8, \"variable\": 18, \"value\": 13.0}, {\"index\": 9, \"variable\": 18, \"value\": 12.0}, {\"index\": 10, \"variable\": 18, \"value\": 10.0}, {\"index\": 11, \"variable\": 18, \"value\": 14.0}, {\"index\": 12, \"variable\": 18, \"value\": 18.0}, {\"index\": 13, \"variable\": 18, \"value\": 14.0}, {\"index\": 14, \"variable\": 18, \"value\": 16.0}, {\"index\": 15, \"variable\": 18, \"value\": 17.0}, {\"index\": 16, \"variable\": 18, \"value\": 16.0}, {\"index\": 17, \"variable\": 18, \"value\": 15.0}, {\"index\": 18, \"variable\": 18, \"value\": 14.5}, {\"index\": 19, \"variable\": 18, \"value\": 15.5}, {\"index\": 20, \"variable\": 18, \"value\": 14.5}, {\"index\": 21, \"variable\": 18, \"value\": 13.5}, {\"index\": 22, \"variable\": 18, \"value\": 11.5}, {\"index\": 23, \"variable\": 18, \"value\": 9.5}, {\"index\": 24, \"variable\": 18, \"value\": 10.5}, {\"index\": 25, \"variable\": 18, \"value\": 9.5}, {\"index\": 26, \"variable\": 18, \"value\": 10.5}, {\"index\": 27, \"variable\": 18, \"value\": 11.5}, {\"index\": 28, \"variable\": 18, \"value\": 10.5}, {\"index\": 29, \"variable\": 18, \"value\": 8.5}, {\"index\": 30, \"variable\": 18, \"value\": 8.0}, {\"index\": 31, \"variable\": 18, \"value\": 7.0}, {\"index\": 32, \"variable\": 18, \"value\": 8.0}, {\"index\": 33, \"variable\": 18, \"value\": 8.0}, {\"index\": 34, \"variable\": 18, \"value\": 7.0}, {\"index\": 35, \"variable\": 18, \"value\": 6.0}, {\"index\": 36, \"variable\": 18, \"value\": 7.0}, {\"index\": 37, \"variable\": 18, \"value\": 8.0}, {\"index\": 38, \"variable\": 18, \"value\": 10.0}, {\"index\": 39, \"variable\": 18, \"value\": 18.0}, {\"index\": 40, \"variable\": 18, \"value\": 19.0}, {\"index\": 41, \"variable\": 18, \"value\": 19.0}, {\"index\": 42, \"variable\": 18, \"value\": 18.0}, {\"index\": 43, \"variable\": 18, \"value\": 22.0}, {\"index\": 44, \"variable\": 18, \"value\": 28.0}, {\"index\": 45, \"variable\": 18, \"value\": 28.0}, {\"index\": 46, \"variable\": 18, \"value\": 29.0}, {\"index\": 47, \"variable\": 18, \"value\": 33.0}, {\"index\": 48, \"variable\": 18, \"value\": 32.0}, {\"index\": 49, \"variable\": 18, \"value\": 30.0}, {\"index\": 50, \"variable\": 18, \"value\": 32.0}, {\"index\": 51, \"variable\": 18, \"value\": 31.0}, {\"index\": 52, \"variable\": 18, \"value\": 30.0}, {\"index\": 53, \"variable\": 18, \"value\": 31.0}, {\"index\": 54, \"variable\": 18, \"value\": 33.0}, {\"index\": 55, \"variable\": 18, \"value\": 32.0}, {\"index\": 56, \"variable\": 18, \"value\": 33.0}, {\"index\": 57, \"variable\": 18, \"value\": 32.5}, {\"index\": 58, \"variable\": 18, \"value\": 33.5}, {\"index\": 59, \"variable\": 18, \"value\": 34.5}, {\"index\": 60, \"variable\": 18, \"value\": 33.5}, {\"index\": 61, \"variable\": 18, \"value\": 31.5}, {\"index\": 62, \"variable\": 18, \"value\": 25.5}, {\"index\": 63, \"variable\": 18, \"value\": 21.5}, {\"index\": 64, \"variable\": 18, \"value\": 27.5}, {\"index\": 65, \"variable\": 18, \"value\": 43.5}, {\"index\": 66, \"variable\": 18, \"value\": 49.5}, {\"index\": 67, \"variable\": 18, \"value\": 57.5}, {\"index\": 68, \"variable\": 18, \"value\": 65.5}, {\"index\": 69, \"variable\": 18, \"value\": 73.5}, {\"index\": 70, \"variable\": 18, \"value\": 65.5}, {\"index\": 71, \"variable\": 18, \"value\": 65.5}, {\"index\": 72, \"variable\": 18, \"value\": 64.5}, {\"index\": 73, \"variable\": 18, \"value\": 65.5}, {\"index\": 74, \"variable\": 18, \"value\": 64.5}, {\"index\": 75, \"variable\": 18, \"value\": 64.5}, {\"index\": 76, \"variable\": 18, \"value\": 63.5}, {\"index\": 77, \"variable\": 18, \"value\": 65.5}, {\"index\": 78, \"variable\": 18, \"value\": 65.5}, {\"index\": 79, \"variable\": 18, \"value\": 66.5}, {\"index\": 80, \"variable\": 18, \"value\": 66.5}, {\"index\": 81, \"variable\": 18, \"value\": 65.5}, {\"index\": 82, \"variable\": 18, \"value\": 66.5}, {\"index\": 83, \"variable\": 18, \"value\": 65.5}, {\"index\": 84, \"variable\": 18, \"value\": 66.5}, {\"index\": 85, \"variable\": 18, \"value\": 66.5}, {\"index\": 86, \"variable\": 18, \"value\": 66.5}, {\"index\": 87, \"variable\": 18, \"value\": 67.5}, {\"index\": 88, \"variable\": 18, \"value\": 67.0}, {\"index\": 89, \"variable\": 18, \"value\": 65.0}, {\"index\": 90, \"variable\": 18, \"value\": 63.0}, {\"index\": 91, \"variable\": 18, \"value\": 64.0}, {\"index\": 92, \"variable\": 18, \"value\": 63.0}, {\"index\": 93, \"variable\": 18, \"value\": 64.0}, {\"index\": 94, \"variable\": 18, \"value\": 65.0}, {\"index\": 95, \"variable\": 18, \"value\": 64.0}, {\"index\": 96, \"variable\": 18, \"value\": 63.5}, {\"index\": 97, \"variable\": 18, \"value\": 62.5}, {\"index\": 98, \"variable\": 18, \"value\": 60.5}, {\"index\": 99, \"variable\": 18, \"value\": 59.5}, {\"index\": 0, \"variable\": 19, \"value\": 21.0}, {\"index\": 1, \"variable\": 19, \"value\": 20.0}, {\"index\": 2, \"variable\": 19, \"value\": 16.0}, {\"index\": 3, \"variable\": 19, \"value\": 15.0}, {\"index\": 4, \"variable\": 19, \"value\": 14.0}, {\"index\": 5, \"variable\": 19, \"value\": 13.0}, {\"index\": 6, \"variable\": 19, \"value\": 12.5}, {\"index\": 7, \"variable\": 19, \"value\": 12.0}, {\"index\": 8, \"variable\": 19, \"value\": 11.0}, {\"index\": 9, \"variable\": 19, \"value\": 12.0}, {\"index\": 10, \"variable\": 19, \"value\": 11.0}, {\"index\": 11, \"variable\": 19, \"value\": 10.0}, {\"index\": 12, \"variable\": 19, \"value\": 9.0}, {\"index\": 13, \"variable\": 19, \"value\": 13.0}, {\"index\": 14, \"variable\": 19, \"value\": 12.0}, {\"index\": 15, \"variable\": 19, \"value\": 8.0}, {\"index\": 16, \"variable\": 19, \"value\": 16.0}, {\"index\": 17, \"variable\": 19, \"value\": 10.0}, {\"index\": 18, \"variable\": 19, \"value\": 6.0}, {\"index\": 19, \"variable\": 19, \"value\": -2.0}, {\"index\": 20, \"variable\": 19, \"value\": 14.0}, {\"index\": 21, \"variable\": 19, \"value\": 15.0}, {\"index\": 22, \"variable\": 19, \"value\": 16.0}, {\"index\": 23, \"variable\": 19, \"value\": 14.0}, {\"index\": 24, \"variable\": 19, \"value\": 8.0}, {\"index\": 25, \"variable\": 19, \"value\": 16.0}, {\"index\": 26, \"variable\": 19, \"value\": 14.0}, {\"index\": 27, \"variable\": 19, \"value\": 13.0}, {\"index\": 28, \"variable\": 19, \"value\": 11.0}, {\"index\": 29, \"variable\": 19, \"value\": 10.0}, {\"index\": 30, \"variable\": 19, \"value\": 11.0}, {\"index\": 31, \"variable\": 19, \"value\": 12.0}, {\"index\": 32, \"variable\": 19, \"value\": 13.0}, {\"index\": 33, \"variable\": 19, \"value\": 14.0}, {\"index\": 34, \"variable\": 19, \"value\": 13.0}, {\"index\": 35, \"variable\": 19, \"value\": 12.0}, {\"index\": 36, \"variable\": 19, \"value\": 13.0}, {\"index\": 37, \"variable\": 19, \"value\": 14.0}, {\"index\": 38, \"variable\": 19, \"value\": 13.0}, {\"index\": 39, \"variable\": 19, \"value\": 14.0}, {\"index\": 40, \"variable\": 19, \"value\": 13.0}, {\"index\": 41, \"variable\": 19, \"value\": 13.0}, {\"index\": 42, \"variable\": 19, \"value\": 7.0}, {\"index\": 43, \"variable\": 19, \"value\": 13.0}, {\"index\": 44, \"variable\": 19, \"value\": 14.0}, {\"index\": 45, \"variable\": 19, \"value\": 15.0}, {\"index\": 46, \"variable\": 19, \"value\": 14.0}, {\"index\": 47, \"variable\": 19, \"value\": 16.0}, {\"index\": 48, \"variable\": 19, \"value\": 18.0}, {\"index\": 49, \"variable\": 19, \"value\": 22.0}, {\"index\": 50, \"variable\": 19, \"value\": 23.0}, {\"index\": 51, \"variable\": 19, \"value\": 22.0}, {\"index\": 52, \"variable\": 19, \"value\": 23.0}, {\"index\": 53, \"variable\": 19, \"value\": 22.0}, {\"index\": 54, \"variable\": 19, \"value\": 21.0}, {\"index\": 55, \"variable\": 19, \"value\": 22.0}, {\"index\": 56, \"variable\": 19, \"value\": 21.0}, {\"index\": 57, \"variable\": 19, \"value\": 20.0}, {\"index\": 58, \"variable\": 19, \"value\": 21.0}, {\"index\": 59, \"variable\": 19, \"value\": 22.0}, {\"index\": 60, \"variable\": 19, \"value\": 20.0}, {\"index\": 61, \"variable\": 19, \"value\": 17.0}, {\"index\": 62, \"variable\": 19, \"value\": 11.0}, {\"index\": 63, \"variable\": 19, \"value\": 19.0}, {\"index\": 64, \"variable\": 19, \"value\": 11.0}, {\"index\": 65, \"variable\": 19, \"value\": 7.0}, {\"index\": 66, \"variable\": 19, \"value\": -1.0}, {\"index\": 67, \"variable\": 19, \"value\": 3.0}, {\"index\": 68, \"variable\": 19, \"value\": -5.0}, {\"index\": 69, \"variable\": 19, \"value\": -13.0}, {\"index\": 70, \"variable\": 19, \"value\": -14.0}, {\"index\": 71, \"variable\": 19, \"value\": -15.0}, {\"index\": 72, \"variable\": 19, \"value\": -11.0}, {\"index\": 73, \"variable\": 19, \"value\": -15.0}, {\"index\": 74, \"variable\": 19, \"value\": -21.0}, {\"index\": 75, \"variable\": 19, \"value\": -17.0}, {\"index\": 76, \"variable\": 19, \"value\": -9.0}, {\"index\": 77, \"variable\": 19, \"value\": -15.0}, {\"index\": 78, \"variable\": 19, \"value\": -7.0}, {\"index\": 79, \"variable\": 19, \"value\": -15.0}, {\"index\": 80, \"variable\": 19, \"value\": -14.0}, {\"index\": 81, \"variable\": 19, \"value\": -14.0}, {\"index\": 82, \"variable\": 19, \"value\": -13.0}, {\"index\": 83, \"variable\": 19, \"value\": -12.0}, {\"index\": 84, \"variable\": 19, \"value\": -14.0}, {\"index\": 85, \"variable\": 19, \"value\": -18.0}, {\"index\": 86, \"variable\": 19, \"value\": -12.0}, {\"index\": 87, \"variable\": 19, \"value\": 4.0}, {\"index\": 88, \"variable\": 19, \"value\": -12.0}, {\"index\": 89, \"variable\": 19, \"value\": -16.0}, {\"index\": 90, \"variable\": 19, \"value\": -24.0}, {\"index\": 91, \"variable\": 19, \"value\": -25.0}, {\"index\": 92, \"variable\": 19, \"value\": -27.0}, {\"index\": 93, \"variable\": 19, \"value\": -27.0}, {\"index\": 94, \"variable\": 19, \"value\": -28.0}, {\"index\": 95, \"variable\": 19, \"value\": -29.0}, {\"index\": 96, \"variable\": 19, \"value\": -27.0}, {\"index\": 97, \"variable\": 19, \"value\": -28.0}, {\"index\": 98, \"variable\": 19, \"value\": -29.0}, {\"index\": 99, \"variable\": 19, \"value\": -29.0}]}}, {\"mode\": \"vega-lite\"});\n",
       "</script>"
      ],
      "text/plain": [
       "alt.Chart(...)"
      ]
     },
     "execution_count": 135,
     "metadata": {},
     "output_type": "execute_result"
    }
   ],
   "source": [
    "alt.Chart( record_melted).mark_line().encode(\n",
    "    x = 'index',\n",
    "    y = 'value',\n",
    "    color = 'variable:N')"
   ]
  },
  {
   "cell_type": "markdown",
   "id": "c806a528-fe45-49e8-8f7d-25053a486761",
   "metadata": {},
   "source": [
    "# Storing"
   ]
  },
  {
   "cell_type": "code",
   "execution_count": 136,
   "id": "a028a28a-5a34-4bb1-8c6a-e8c686ff765a",
   "metadata": {},
   "outputs": [],
   "source": [
    "record_run = defaultdict( lambda: record_game.copy())\n",
    "\n",
    "verbose = False\n",
    "\n",
    "record = dict()\n",
    "\n",
    "result = np.array( [])\n",
    "bankroll = 20\n",
    "count_ = 0\n",
    "current_deck = (deck * 2).copy()\n",
    "betsize = 1\n",
    "for j in range( 100):\n",
    "\n",
    "    change = game()\n",
    "\n",
    "    bankroll = bankroll + change\n",
    "    record_run[ j][ 'run_num'] = j\n",
    "    record_run[ j][ 'player_cards'] = player.cards\n",
    "    record_run[ j][ 'dealer_cards'] = dealer.cards\n",
    "    record_run[ j][ 'betsize'] = betsize\n",
    "    record_run[ j][ 'change'] = change\n",
    "    record_run[ j][ 'count_'] = count_\n",
    "\n",
    "    result = np.append( result, bankroll)\n",
    "\n",
    "    #print( f'Bankroll is {bankroll}.')\n",
    "    #print()\n"
   ]
  },
  {
   "cell_type": "code",
   "execution_count": 137,
   "id": "6a9ef51d-77bf-42a6-b5ad-3ae37710a7cc",
   "metadata": {},
   "outputs": [],
   "source": [
    "pd.DataFrame( record_run).T.to_csv( '11-08-0944.csv')"
   ]
  },
  {
   "cell_type": "code",
   "execution_count": null,
   "id": "45eab735-b47f-44a2-98e3-6136d03a2357",
   "metadata": {},
   "outputs": [],
   "source": []
  },
  {
   "cell_type": "code",
   "execution_count": null,
   "id": "8239c409-6cd8-4af3-9b1e-04fceb4de60f",
   "metadata": {},
   "outputs": [],
   "source": []
  },
  {
   "cell_type": "code",
   "execution_count": null,
   "id": "33da9d06-88ba-4a06-82cc-1e777c4ee88c",
   "metadata": {},
   "outputs": [],
   "source": []
  },
  {
   "cell_type": "code",
   "execution_count": null,
   "id": "3ad20d39-4931-4d6a-897c-9c1d2c2592b9",
   "metadata": {},
   "outputs": [],
   "source": []
  },
  {
   "cell_type": "code",
   "execution_count": null,
   "id": "a413f3ee-50bc-46c9-8bf8-a9f15418f549",
   "metadata": {},
   "outputs": [],
   "source": []
  },
  {
   "cell_type": "markdown",
   "id": "186c3474-e1d4-4f21-bf5f-d2df52ba6157",
   "metadata": {},
   "source": [
    "# Old codes"
   ]
  },
  {
   "cell_type": "code",
   "execution_count": 128,
   "id": "f9299f9e-0d6d-4c79-971c-2b7433a1dcb4",
   "metadata": {},
   "outputs": [],
   "source": [
    "verbose = False\n",
    "\n",
    "length = []\n",
    "for i in range( 100):\n",
    "    current_deck = (deck * 2).copy()\n",
    "    bankroll = 20\n",
    "    result = np.array( [])\n",
    "    while bankroll > 0:\n",
    "        surrender = False\n",
    "        betsize = 1\n",
    "        dealer = Dealer( verbose = False)\n",
    "        player = Player( verbose = False)\n",
    "\n",
    "        dealer.draw()\n",
    "        player.draw()\n",
    "        player.draw()\n",
    "\n",
    "        action = 'H'\n",
    "\n",
    "        while (player.value < 21) and (action != 'S'):\n",
    "            if 'A' in player.cards:\n",
    "                total = 'soft'\n",
    "            else:\n",
    "                total = 'hard'\n",
    "                \n",
    "            action = basic_strategy_action( player, dealer, total)\n",
    "            \n",
    "            if action == 'Sur':\n",
    "                if len( player.cards) == 2:\n",
    "                    surrender = True\n",
    "                    break\n",
    "                else:\n",
    "                    action = 'H'\n",
    "\n",
    "            if action == 'H':\n",
    "                player.draw()\n",
    "\n",
    "            if action == 'D':\n",
    "                player.draw()\n",
    "                betsize *= 2\n",
    "                action = 'S'\n",
    "\n",
    "        if surrender == True:\n",
    "            bankroll -= betsize / 2\n",
    "            continue\n",
    "\n",
    "        while dealer.value < 17:\n",
    "            dealer.draw()\n",
    "\n",
    "        if len( current_deck) < 50:\n",
    "            current_deck = (deck * 2).copy()\n",
    "\n",
    "        if ( (player.value < 22) & (player.value > dealer.value) ) | (dealer.value >= 22):\n",
    "            bankroll += betsize\n",
    "        elif (player.value >= 22) | (player.value < dealer.value):\n",
    "            bankroll -= betsize\n",
    "\n",
    "        result = np.append( result, bankroll)\n",
    "\n",
    "        #print( f'Bankroll is {bankroll}.')\n",
    "        #print()\n",
    "    length.append( len( result))"
   ]
  },
  {
   "cell_type": "code",
   "execution_count": 79,
   "id": "b3ecc800-6f3a-43e7-a00c-21554652505d",
   "metadata": {},
   "outputs": [],
   "source": [
    "if len( current_deck) < 50:\n",
    "    current_deck = (deck * 2).copy()"
   ]
  },
  {
   "cell_type": "code",
   "execution_count": null,
   "id": "628b925a-79d4-426d-9139-a9d819b2d464",
   "metadata": {},
   "outputs": [],
   "source": [
    "current_deck"
   ]
  },
  {
   "cell_type": "code",
   "execution_count": null,
   "id": "6a8dd6ea-4f07-4d94-a50e-2601e086dbf8",
   "metadata": {},
   "outputs": [],
   "source": [
    "values = np.array( [], dtype = int)\n",
    "num_A = np.count_nonzero( player.cards == 'A')\n",
    "values = np.append( values, sum( list( map( value, player.cards))))\n",
    "for i in range( 1, num_A+1):\n",
    "    values = np.append( values, sum( list( map( value, player.cards)))-10*i)\n",
    "values[ values <= 21]"
   ]
  },
  {
   "cell_type": "code",
   "execution_count": null,
   "id": "774c6f8b-6601-4cd3-90c9-6131308616a9",
   "metadata": {},
   "outputs": [],
   "source": [
    "player.value, dealer.value"
   ]
  },
  {
   "cell_type": "code",
   "execution_count": null,
   "id": "aa383ff7-46b7-45a3-af45-a61f43a0a4a5",
   "metadata": {},
   "outputs": [],
   "source": [
    "pd.Series( length).describe()"
   ]
  },
  {
   "cell_type": "code",
   "execution_count": null,
   "id": "38d11264-824b-46ae-a4f2-fc4b0925c13f",
   "metadata": {},
   "outputs": [],
   "source": [
    "pd.Series( length).hist( bins = 100)"
   ]
  },
  {
   "cell_type": "code",
   "execution_count": null,
   "id": "cc06e852-cb4d-46e5-b155-8ea3f9e8d8c6",
   "metadata": {},
   "outputs": [],
   "source": []
  },
  {
   "cell_type": "code",
   "execution_count": null,
   "id": "43817cb1-de33-4821-aee8-4ed6e564d325",
   "metadata": {},
   "outputs": [],
   "source": []
  }
 ],
 "metadata": {
  "kernelspec": {
   "display_name": "Python 3 (ipykernel)",
   "language": "python",
   "name": "python3"
  },
  "language_info": {
   "codemirror_mode": {
    "name": "ipython",
    "version": 3
   },
   "file_extension": ".py",
   "mimetype": "text/x-python",
   "name": "python",
   "nbconvert_exporter": "python",
   "pygments_lexer": "ipython3",
   "version": "3.9.13"
  }
 },
 "nbformat": 4,
 "nbformat_minor": 5
}
