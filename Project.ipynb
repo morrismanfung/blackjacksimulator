{
 "cells": [
  {
   "cell_type": "code",
   "execution_count": 274,
   "id": "ce0a89c2-6fac-42ec-beac-eb703b4c4be4",
   "metadata": {},
   "outputs": [],
   "source": [
    "import numpy as np\n",
    "import pandas as pd"
   ]
  },
  {
   "cell_type": "code",
   "execution_count": 275,
   "id": "dd7c60da-ff2c-4f5b-b3cb-ee4044df4409",
   "metadata": {},
   "outputs": [
    {
     "name": "stdout",
     "output_type": "stream",
     "text": [
      "['10', '10', '10', '10', '10', '10', '10', '10', '10', '10', '10', '10', '10', '10', '10', '10', '2', '2', '2', '2', '3', '3', '3', '3', '4', '4', '4', '4', '5', '5', '5', '5', '6', '6', '6', '6', '7', '7', '7', '7', '8', '8', '8', '8', '9', '9', '9', '9', 'A', 'A', 'A', 'A']\n"
     ]
    }
   ],
   "source": [
    "deck = sorted(\n",
    "    [ str( i) for i in range( 2, 10)] * 4 + ['10'] * (4*4) + ['A'] * 4\n",
    "    )\n",
    "print( deck)"
   ]
  },
  {
   "cell_type": "code",
   "execution_count": 276,
   "id": "2ade25d7-4ca4-475e-a2ad-fcf34ab3385a",
   "metadata": {},
   "outputs": [],
   "source": [
    "current_deck = (deck * 2).copy()"
   ]
  },
  {
   "cell_type": "code",
   "execution_count": 277,
   "id": "d2e45d85-9eb0-4a9c-b1c2-68c91aff0972",
   "metadata": {},
   "outputs": [],
   "source": [
    "basic_strategy_hard = pd.read_csv('data\\\\basic-strategy-hard.csv', index_col = 'Index')\n",
    "# basic_strategy_hard.head()"
   ]
  },
  {
   "cell_type": "code",
   "execution_count": 278,
   "id": "eb53bc82-362e-486a-b1e4-8b88634ee020",
   "metadata": {},
   "outputs": [],
   "source": [
    "basic_strategy_soft = pd.read_csv('data\\\\basic-strategy-soft.csv', index_col = 'Index')\n",
    "# basic_strategy_soft.head()"
   ]
  },
  {
   "cell_type": "code",
   "execution_count": 279,
   "id": "627f9e68-335e-4961-8294-ad619ea5ce07",
   "metadata": {},
   "outputs": [],
   "source": [
    "# print( basic_strategy_hard.columns)\n",
    "# print( basic_strategy_hard.index)"
   ]
  },
  {
   "cell_type": "code",
   "execution_count": 280,
   "id": "a5d5e25c-de59-42eb-8407-e3ead87d5650",
   "metadata": {},
   "outputs": [],
   "source": [
    "basic_strategy_hard.index = list( map( str, basic_strategy_hard.index))\n",
    "# print( basic_strategy_hard.columns)\n",
    "# print( basic_strategy_hard.index)"
   ]
  },
  {
   "cell_type": "code",
   "execution_count": 281,
   "id": "b4c06c50-6394-4e75-8b39-3eedccf02f30",
   "metadata": {},
   "outputs": [],
   "source": [
    "# print( basic_strategy_soft.columns)\n",
    "# print( basic_strategy_soft.index)"
   ]
  },
  {
   "cell_type": "code",
   "execution_count": 282,
   "id": "cdc2959a-29f1-4ead-b0e9-6651a1907203",
   "metadata": {},
   "outputs": [],
   "source": [
    "basic_strategy_soft.index = list( map( str, basic_strategy_soft.index))\n",
    "# print( basic_strategy_soft.columns)\n",
    "# print( basic_strategy_soft.index)"
   ]
  },
  {
   "cell_type": "code",
   "execution_count": 283,
   "id": "f12fa59c-38c1-4c8d-acf6-937bde79a147",
   "metadata": {},
   "outputs": [],
   "source": [
    "def value_sum( cards):\n",
    "\n",
    "    values = np.array( [], dtype = int)\n",
    "    num_A = np.count_nonzero( cards == 'A')\n",
    "    values = np.append( values, sum( list( map( value, cards))))\n",
    "    for i in range( 1, num_A+1):\n",
    "        values = np.append( values, sum( list( map( value, cards)))-10*i)\n",
    "    return values"
   ]
  },
  {
   "cell_type": "code",
   "execution_count": 284,
   "id": "dcbef7cd-de2f-41a7-aeab-720263eca417",
   "metadata": {},
   "outputs": [],
   "source": [
    "def draw_cards():\n",
    "    cards = np.random.choice( current_deck)\n",
    "    current_deck.remove( card)\n",
    "    return card\n",
    "\n",
    "def value( card):\n",
    "    try:\n",
    "        return int( card)\n",
    "    except:\n",
    "        return 11\n",
    "\n",
    "def check( value):\n",
    "    if value == 11:\n",
    "        return 'A'\n",
    "    else:\n",
    "        return str( value)"
   ]
  },
  {
   "cell_type": "code",
   "execution_count": 285,
   "id": "e52e45c5-c392-4717-9417-7d52ae798cf3",
   "metadata": {},
   "outputs": [],
   "source": [
    "class Dealer():\n",
    "    def __init__( self, verbose = True):\n",
    "        self.cards = np.array( [])\n",
    "        self.value = 0\n",
    "        self.verbose = verbose\n",
    "    \n",
    "    def draw( self):\n",
    "        card = draw_card()\n",
    "        self.cards = np.append( self.cards, card)\n",
    "        self.possible_values = value_sum( self.cards)\n",
    "        if min( self.possible_values) <= 21:\n",
    "            self.value = max( self.possible_values[ self.possible_values <= 21])\n",
    "        else:\n",
    "            self.value = min( self.possible_values)\n",
    "        if self.verbose == True:\n",
    "            print( f'Dealer\\'s cards are {self.cards}')"
   ]
  },
  {
   "cell_type": "code",
   "execution_count": 286,
   "id": "dc1969eb-0526-46ae-9a32-8df85673f85f",
   "metadata": {},
   "outputs": [],
   "source": [
    "class Player():\n",
    "    def __init__( self, verbose = True):\n",
    "        self.cards = np.array( [])\n",
    "        self.value = 0\n",
    "        self.verbose = verbose\n",
    "    \n",
    "    def draw( self):\n",
    "        card = draw_card()\n",
    "        self.cards = np.append( self.cards, card)\n",
    "        self.possible_values = value_sum( self.cards)\n",
    "        if min( self.possible_values) <= 21:\n",
    "            self.value = max( self.possible_values[ self.possible_values <= 21])\n",
    "        else:\n",
    "            self.value = min( self.possible_values)\n",
    "        if verbose == True:\n",
    "            print( f'Player\\'s cards are {self.cards}')"
   ]
  },
  {
   "cell_type": "code",
   "execution_count": 287,
   "id": "406a8123-cb7d-4991-a6e2-7a60214c7778",
   "metadata": {},
   "outputs": [],
   "source": [
    "def basic_strategy_action( player, dealer, total):\n",
    "    if total == 'hard':\n",
    "        return basic_strategy_hard.loc[ str( player.value), check( dealer.value)]\n",
    "    elif total == 'soft':\n",
    "        return basic_strategy_soft.loc[ str( player.value), check( dealer.value)]"
   ]
  },
  {
   "cell_type": "code",
   "execution_count": 311,
   "id": "d629dad2-6986-48c0-81f1-dafe70237277",
   "metadata": {},
   "outputs": [],
   "source": [
    "def game( player_upcard = None, dealer_upcard = None):\n",
    "    global current_deck\n",
    "    surrender = False\n",
    "    betsize = 1\n",
    "    change = 0\n",
    "    dealer = Dealer( verbose = False)\n",
    "    player = Player( verbose = False)\n",
    "    \n",
    "    if dealer_upcard == None:\n",
    "        dealer.draw()\n",
    "    \n",
    "    if player_upcard == None:\n",
    "        player.draw()\n",
    "    else:\n",
    "        np.append( player.cards, player_upcard) # In case of splitting\n",
    "    player.draw()\n",
    "\n",
    "    action = 'H'\n",
    "\n",
    "    while (player.value < 21) and (action != 'S'):\n",
    "        if 'A' in player.cards:\n",
    "            total = 'soft'\n",
    "        else:\n",
    "            total = 'hard'\n",
    "\n",
    "        action = basic_strategy_action( player, dealer, total)\n",
    "\n",
    "        if action == 'Sur':\n",
    "            if len( player.cards) == 2:\n",
    "                surrender = True\n",
    "                break\n",
    "            else:\n",
    "                action = 'H'\n",
    "\n",
    "        if action == 'H':\n",
    "            player.draw()\n",
    "\n",
    "        if action == 'D':\n",
    "            player.draw()\n",
    "            betsize *= 2\n",
    "            action = 'S'\n",
    "\n",
    "    if surrender == True:\n",
    "        change = -betsize / 2\n",
    "        return change\n",
    "\n",
    "    while dealer.value < 17:\n",
    "        dealer.draw()\n",
    "    \n",
    "    if ( (player.value < 22) & (player.value > dealer.value) ) | (dealer.value >= 22):\n",
    "        change = betsize\n",
    "    elif (player.value >= 22) | (player.value < dealer.value):\n",
    "        change = -betsize\n",
    "    \n",
    "    if len( current_deck) < 50:\n",
    "        current_deck = (deck * 2).copy()\n",
    "        \n",
    "    return change"
   ]
  },
  {
   "cell_type": "code",
   "execution_count": 359,
   "id": "ef492b8e-e52f-4601-86fa-13b793ccb772",
   "metadata": {},
   "outputs": [
    {
     "data": {
      "text/plain": [
       "1"
      ]
     },
     "execution_count": 359,
     "metadata": {},
     "output_type": "execute_result"
    }
   ],
   "source": [
    "game()"
   ]
  },
  {
   "cell_type": "code",
   "execution_count": 391,
   "id": "a93c9a87-1794-4dea-b9f2-5d7a2fab80bb",
   "metadata": {},
   "outputs": [
    {
     "data": {
      "text/plain": [
       "array([21. , 22. , 23. , 22. , 21. , 22. , 21.5, 20.5, 21.5, 22.5, 20.5,\n",
       "       20. , 21. , 22. , 24. , 23. , 21. , 22. , 23. , 24. , 23. , 22. ,\n",
       "       23. , 22. , 23. , 24. , 23. , 22. , 23. , 22. , 23. , 22. , 21. ,\n",
       "       20.5, 22.5, 20.5, 19.5, 19. , 18. , 16. , 15. , 14. , 13. , 12. ,\n",
       "       14. , 13. , 11. , 12. , 13. , 12. , 13. , 12. , 11. , 12. , 11. ,\n",
       "       10. , 11. , 12. , 12. , 11. , 12. , 13. , 14. , 16. , 15.5, 14.5,\n",
       "       15.5, 16.5, 16. , 16. , 17. , 18. , 19. , 18.5, 17.5, 16.5, 17.5,\n",
       "       18.5, 19.5, 20.5, 18.5, 17.5, 16.5, 15.5, 16.5, 16. , 17. , 17. ,\n",
       "       18. , 17.5, 16.5, 16.5, 18.5, 19.5, 18.5, 19.5, 18.5, 19.5, 18.5,\n",
       "       17.5])"
      ]
     },
     "execution_count": 391,
     "metadata": {},
     "output_type": "execute_result"
    }
   ],
   "source": [
    "verbose = False\n",
    "\n",
    "result = np.array( [])\n",
    "bankroll = 20\n",
    "for i in range( 100):\n",
    "    current_deck = (deck * 2).copy()\n",
    "    \n",
    "    bankroll = bankroll + game()\n",
    "    \n",
    "\n",
    "    result = np.append( result, bankroll)\n",
    "\n",
    "    #print( f'Bankroll is {bankroll}.')\n",
    "    #print()\n",
    "\n",
    "result"
   ]
  },
  {
   "cell_type": "code",
   "execution_count": 365,
   "id": "204222af-c576-4360-91ca-aa47ea151428",
   "metadata": {},
   "outputs": [
    {
     "data": {
      "text/plain": [
       "array([19. , 20. , 19. , 18. , 19. , 20. , 21. , 20. , 21. , 20.5, 19.5,\n",
       "       21.5, 20.5, 19.5, 19.5, 20.5, 19.5, 20.5, 20. , 21. , 22. , 23. ,\n",
       "       24. , 25. , 26. , 27. , 28. , 27. , 26. , 25. , 26. , 24. , 23. ,\n",
       "       24. , 23. , 24. , 23. , 24. , 23. , 22. , 23. , 25. , 24. , 25. ,\n",
       "       25. , 26. , 25.5, 24.5, 23.5, 22.5, 23.5, 22.5, 23.5, 22.5, 22.5,\n",
       "       23.5, 22.5, 21.5, 22.5, 21.5, 20.5, 19.5, 20.5, 19.5, 20.5, 21.5,\n",
       "       20.5, 19.5, 18.5, 18.5, 17.5, 18.5, 17.5, 18.5, 17.5, 16.5, 15.5,\n",
       "       14.5, 13.5, 12.5, 13.5, 12.5, 11.5, 10.5,  8.5,  9.5, 10.5, 11.5,\n",
       "       12.5, 11.5, 10.5,  9.5, 10.5,  9.5,  8.5, 10.5,  8.5,  7.5,  6.5,\n",
       "        5.5])"
      ]
     },
     "execution_count": 365,
     "metadata": {},
     "output_type": "execute_result"
    }
   ],
   "source": []
  },
  {
   "cell_type": "code",
   "execution_count": null,
   "id": "f9299f9e-0d6d-4c79-971c-2b7433a1dcb4",
   "metadata": {},
   "outputs": [],
   "source": [
    "verbose = False\n",
    "\n",
    "length = []\n",
    "for i in range( 100):\n",
    "    current_deck = (deck * 2).copy()\n",
    "    bankroll = 20\n",
    "    result = np.array( [])\n",
    "    while bankroll > 0:\n",
    "        surrender = False\n",
    "        betsize = 1\n",
    "        dealer = Dealer( verbose = False)\n",
    "        player = Player( verbose = False)\n",
    "\n",
    "        dealer.draw()\n",
    "        player.draw()\n",
    "        player.draw()\n",
    "\n",
    "        action = 'H'\n",
    "\n",
    "        while (player.value < 21) and (action != 'S'):\n",
    "            if 'A' in player.cards:\n",
    "                total = 'soft'\n",
    "            else:\n",
    "                total = 'hard'\n",
    "                \n",
    "            action = basic_strategy_action( player, dealer, total)\n",
    "            \n",
    "            if action == 'Sur':\n",
    "                if len( player.cards) == 2:\n",
    "                    surrender = True\n",
    "                    break\n",
    "                else:\n",
    "                    action = 'H'\n",
    "\n",
    "            if action == 'H':\n",
    "                player.draw()\n",
    "\n",
    "            if action == 'D':\n",
    "                player.draw()\n",
    "                betsize *= 2\n",
    "                action = 'S'\n",
    "\n",
    "        if surrender == True:\n",
    "            bankroll -= betsize / 2\n",
    "            continue\n",
    "\n",
    "        while dealer.value < 17:\n",
    "            dealer.draw()\n",
    "\n",
    "        if len( current_deck) < 50:\n",
    "            current_deck = (deck * 2).copy()\n",
    "\n",
    "        if ( (player.value < 22) & (player.value > dealer.value) ) | (dealer.value >= 22):\n",
    "            bankroll += betsize\n",
    "        elif (player.value >= 22) | (player.value < dealer.value):\n",
    "            bankroll -= betsize\n",
    "\n",
    "        result = np.append( result, bankroll)\n",
    "\n",
    "        #print( f'Bankroll is {bankroll}.')\n",
    "        #print()\n",
    "    length.append( len( result))"
   ]
  },
  {
   "cell_type": "code",
   "execution_count": 306,
   "id": "b3ecc800-6f3a-43e7-a00c-21554652505d",
   "metadata": {},
   "outputs": [],
   "source": [
    "if len( current_deck) < 50:\n",
    "    current_deck = (deck * 2).copy()"
   ]
  },
  {
   "cell_type": "code",
   "execution_count": 307,
   "id": "628b925a-79d4-426d-9139-a9d819b2d464",
   "metadata": {},
   "outputs": [
    {
     "data": {
      "text/plain": [
       "['10',\n",
       " '10',\n",
       " '10',\n",
       " '10',\n",
       " '10',\n",
       " '10',\n",
       " '10',\n",
       " '10',\n",
       " '10',\n",
       " '10',\n",
       " '10',\n",
       " '10',\n",
       " '10',\n",
       " '10',\n",
       " '10',\n",
       " '10',\n",
       " '2',\n",
       " '2',\n",
       " '2',\n",
       " '2',\n",
       " '3',\n",
       " '3',\n",
       " '3',\n",
       " '3',\n",
       " '4',\n",
       " '4',\n",
       " '4',\n",
       " '4',\n",
       " '5',\n",
       " '5',\n",
       " '5',\n",
       " '5',\n",
       " '6',\n",
       " '6',\n",
       " '6',\n",
       " '6',\n",
       " '7',\n",
       " '7',\n",
       " '7',\n",
       " '7',\n",
       " '8',\n",
       " '8',\n",
       " '8',\n",
       " '8',\n",
       " '9',\n",
       " '9',\n",
       " '9',\n",
       " '9',\n",
       " 'A',\n",
       " 'A',\n",
       " 'A',\n",
       " 'A',\n",
       " '10',\n",
       " '10',\n",
       " '10',\n",
       " '10',\n",
       " '10',\n",
       " '10',\n",
       " '10',\n",
       " '10',\n",
       " '10',\n",
       " '10',\n",
       " '10',\n",
       " '10',\n",
       " '10',\n",
       " '10',\n",
       " '10',\n",
       " '10',\n",
       " '2',\n",
       " '2',\n",
       " '2',\n",
       " '2',\n",
       " '3',\n",
       " '3',\n",
       " '3',\n",
       " '3',\n",
       " '4',\n",
       " '4',\n",
       " '4',\n",
       " '4',\n",
       " '5',\n",
       " '5',\n",
       " '5',\n",
       " '5',\n",
       " '6',\n",
       " '6',\n",
       " '6',\n",
       " '6',\n",
       " '7',\n",
       " '7',\n",
       " '7',\n",
       " '7',\n",
       " '8',\n",
       " '8',\n",
       " '8',\n",
       " '8',\n",
       " '9',\n",
       " '9',\n",
       " '9',\n",
       " '9',\n",
       " 'A',\n",
       " 'A',\n",
       " 'A',\n",
       " 'A']"
      ]
     },
     "execution_count": 307,
     "metadata": {},
     "output_type": "execute_result"
    }
   ],
   "source": [
    "current_deck"
   ]
  },
  {
   "cell_type": "code",
   "execution_count": null,
   "id": "6a8dd6ea-4f07-4d94-a50e-2601e086dbf8",
   "metadata": {},
   "outputs": [
    {
     "data": {
      "text/plain": [
       "array([], dtype=int32)"
      ]
     },
     "execution_count": 291,
     "metadata": {},
     "output_type": "execute_result"
    }
   ],
   "source": [
    "values = np.array( [], dtype = int)\n",
    "num_A = np.count_nonzero( player.cards == 'A')\n",
    "values = np.append( values, sum( list( map( value, player.cards))))\n",
    "for i in range( 1, num_A+1):\n",
    "    values = np.append( values, sum( list( map( value, player.cards)))-10*i)\n",
    "values[ values <= 21]"
   ]
  },
  {
   "cell_type": "code",
   "execution_count": null,
   "id": "774c6f8b-6601-4cd3-90c9-6131308616a9",
   "metadata": {},
   "outputs": [
    {
     "data": {
      "text/plain": [
       "(23, 20)"
      ]
     },
     "execution_count": 292,
     "metadata": {},
     "output_type": "execute_result"
    }
   ],
   "source": [
    "player.value, dealer.value"
   ]
  },
  {
   "cell_type": "code",
   "execution_count": 294,
   "id": "aa383ff7-46b7-45a3-af45-a61f43a0a4a5",
   "metadata": {},
   "outputs": [
    {
     "data": {
      "text/plain": [
       "count     100.000000\n",
       "mean      216.730000\n",
       "std       203.459119\n",
       "min        27.000000\n",
       "25%       109.000000\n",
       "50%       157.500000\n",
       "75%       219.750000\n",
       "max      1383.000000\n",
       "dtype: float64"
      ]
     },
     "execution_count": 294,
     "metadata": {},
     "output_type": "execute_result"
    }
   ],
   "source": [
    "pd.Series( length).describe()"
   ]
  },
  {
   "cell_type": "code",
   "execution_count": 295,
   "id": "38d11264-824b-46ae-a4f2-fc4b0925c13f",
   "metadata": {},
   "outputs": [
    {
     "data": {
      "text/plain": [
       "<AxesSubplot: >"
      ]
     },
     "execution_count": 295,
     "metadata": {},
     "output_type": "execute_result"
    },
    {
     "data": {
      "image/png": "[encoded data removed]",
      "text/plain": [
       "<Figure size 640x480 with 1 Axes>"
      ]
     },
     "metadata": {},
     "output_type": "display_data"
    }
   ],
   "source": [
    "pd.Series( length).hist( bins = 100)"
   ]
  },
  {
   "cell_type": "code",
   "execution_count": null,
   "id": "cc06e852-cb4d-46e5-b155-8ea3f9e8d8c6",
   "metadata": {},
   "outputs": [],
   "source": []
  },
  {
   "cell_type": "code",
   "execution_count": null,
   "id": "43817cb1-de33-4821-aee8-4ed6e564d325",
   "metadata": {},
   "outputs": [],
   "source": []
  }
 ],
 "metadata": {
  "kernelspec": {
   "display_name": "Python 3 (ipykernel)",
   "language": "python",
   "name": "python3"
  },
  "language_info": {
   "codemirror_mode": {
    "name": "ipython",
    "version": 3
   },
   "file_extension": ".py",
   "mimetype": "text/x-python",
   "name": "python",
   "nbconvert_exporter": "python",
   "pygments_lexer": "ipython3",
   "version": "3.9.13"
  }
 },
 "nbformat": 4,
 "nbformat_minor": 5
}
